{
 "cells": [
  {
   "cell_type": "markdown",
   "id": "689c1a0e",
   "metadata": {},
   "source": [
    "## Ejercicios - Lists"
   ]
  },
  {
   "cell_type": "code",
   "execution_count": 13,
   "id": "29b1adca",
   "metadata": {},
   "outputs": [],
   "source": [
    "lista = [\"a\", \"b\", \"c\", \"d\", \"e\", 1, 2, 3, 4, 5, False, True]"
   ]
  },
  {
   "cell_type": "markdown",
   "id": "3a92774b",
   "metadata": {},
   "source": [
    "### Ejercicio 1\n",
    "- En listas separadas obtener una lista paras los caracteres, otra para los enteros y otra para lo booleanos, utilizando slicing.\n",
    "- Llamalas **lista_1**, **lista_2**, **lista_3** respectivamente."
   ]
  },
  {
   "cell_type": "code",
   "execution_count": 14,
   "id": "d8846c0d",
   "metadata": {},
   "outputs": [
    {
     "name": "stdout",
     "output_type": "stream",
     "text": [
      "['a', 'b', 'c', 'd', 'e']\n",
      "[1, 2, 3, 4, 5]\n",
      "[False, True]\n"
     ]
    }
   ],
   "source": [
    "# Sabiendo el contenido y las posiciones de la lista\n",
    "lista_1 = lista[0:5]\n",
    "print(lista_1)\n",
    "lista_2 = lista[5:10]\n",
    "print(lista_2)\n",
    "lista_3 = lista[10:]\n",
    "print(lista_3)"
   ]
  },
  {
   "cell_type": "code",
   "execution_count": 15,
   "id": "b869534e",
   "metadata": {},
   "outputs": [
    {
     "name": "stdout",
     "output_type": "stream",
     "text": [
      "['a', 'b', 'c', 'd', 'e']\n"
     ]
    }
   ],
   "source": [
    "# Sabiendo solo la primera y la ultima letra\n",
    "letra_ini = lista.index(\"a\")\n",
    "letra_final = lista.index(\"e\")\n",
    "lista_1[letra_ini:letra_final]\n",
    "print(lista_1)"
   ]
  },
  {
   "cell_type": "code",
   "execution_count": 16,
   "id": "f633c099",
   "metadata": {},
   "outputs": [
    {
     "name": "stdout",
     "output_type": "stream",
     "text": [
      "[1, 2, 3, 4, 5]\n"
     ]
    }
   ],
   "source": [
    "num_ini = lista.index(1)\n",
    "num_final = lista.index(5)\n",
    "lista_2[num_ini:num_final]\n",
    "print(lista_2)"
   ]
  },
  {
   "cell_type": "code",
   "execution_count": 17,
   "id": "bf896a5f",
   "metadata": {},
   "outputs": [
    {
     "name": "stdout",
     "output_type": "stream",
     "text": [
      "[False, True]\n"
     ]
    }
   ],
   "source": [
    "bol_ini = lista.index(False)\n",
    "bol_final = lista.index(True)\n",
    "lista_3[bol_ini:bol_final]\n",
    "print(lista_3)"
   ]
  },
  {
   "cell_type": "markdown",
   "id": "2c73b574",
   "metadata": {},
   "source": [
    "### Ejercicio 2\n",
    "- Insertar las vocales faltantes a la lista de caracteres."
   ]
  },
  {
   "cell_type": "code",
   "execution_count": 18,
   "id": "7ff75b01",
   "metadata": {},
   "outputs": [],
   "source": [
    "lista = [\"a\", \"b\", \"c\", \"d\", \"e\", 1, 2, 3, 4, 5, False, True]"
   ]
  },
  {
   "cell_type": "code",
   "execution_count": 19,
   "id": "d6903710",
   "metadata": {},
   "outputs": [
    {
     "name": "stdout",
     "output_type": "stream",
     "text": [
      "['a', 'b', 'c', 'd', 'e', 1, 2, 3, 4, 5, False, True, 'i', 'o', 'u']\n"
     ]
    }
   ],
   "source": [
    "# Añade varios elementos al final de la lista\n",
    "vocales_restantes = \"i\", \"o\", \"u\"\n",
    "lista.extend(vocales_restantes) \n",
    "print(lista)"
   ]
  },
  {
   "cell_type": "code",
   "execution_count": 20,
   "id": "58d18658",
   "metadata": {},
   "outputs": [
    {
     "name": "stdout",
     "output_type": "stream",
     "text": [
      "['a', 'b', 'c', 'd', 'e', 'i', 'o', 'u', 1, 2, 3, 4, 5, False, True]\n"
     ]
    }
   ],
   "source": [
    "lista = [\"a\", \"b\", \"c\", \"d\", \"e\", 1, 2, 3, 4, 5, False, True]\n",
    "\n",
    "#Añade 1 elemento a la posicion que indiquemos \n",
    "lista.insert(5, \"i\") # insert(posicion, elemento a añadir)\n",
    "lista.insert(6, \"o\")\n",
    "lista.insert(7, \"u\")\n",
    "print(lista)"
   ]
  },
  {
   "cell_type": "code",
   "execution_count": 21,
   "id": "3bc9a293",
   "metadata": {},
   "outputs": [
    {
     "name": "stdout",
     "output_type": "stream",
     "text": [
      "['a', 'b', 'c', 'd', 'e', 1, 2, 3, 4, 5, False, True, 'i', 'o', 'u']\n"
     ]
    }
   ],
   "source": [
    "lista = [\"a\", \"b\", \"c\", \"d\", \"e\", 1, 2, 3, 4, 5, False, True]\n",
    "\n",
    "#Añade 1 elemento al final de la lista \n",
    "lista.append(\"i\") # insert(posicion, elemento a añadir)\n",
    "lista.append(\"o\")\n",
    "lista.append(\"u\")\n",
    "print(lista)"
   ]
  },
  {
   "cell_type": "markdown",
   "id": "01569a27",
   "metadata": {},
   "source": [
    "### Ejercicio 3\n",
    "- Eliminar los caracteres que no son vocales de la lista de caracteres."
   ]
  },
  {
   "cell_type": "code",
   "execution_count": null,
   "id": "0b97f95e",
   "metadata": {},
   "outputs": [
    {
     "name": "stdout",
     "output_type": "stream",
     "text": [
      "1\n",
      "['a', 'c', 'd', 'e', 1, 2, 3, 4, 5, False, True]\n",
      "\n",
      "1\n",
      "['a', 'd', 'e', 1, 2, 3, 4, 5, False, True]\n",
      "\n",
      "1\n",
      "['a', 'e', 1, 2, 3, 4, 5, False, True]\n"
     ]
    }
   ],
   "source": [
    "lista = [\"a\", \"b\", \"c\", \"d\", \"e\", 1, 2, 3, 4, 5, False, True]\n",
    "\n",
    "# Borra elementos por su indice\n",
    "print(lista.index(\"b\")) # Buscamos el indice del elemento\n",
    "del lista[1] # Lo borramos \n",
    "print(lista)\n",
    "\n",
    "print(\"\") # Espacios \n",
    "\n",
    "print (lista.index(\"c\")) \n",
    "del lista[1]\n",
    "print(lista)\n",
    "\n",
    "print(\"\")\n",
    "\n",
    "print(lista.index(\"d\")) \n",
    "del lista[1]\n",
    "print(lista)"
   ]
  },
  {
   "cell_type": "markdown",
   "id": "a1f846a6",
   "metadata": {},
   "source": [
    "### Ejercico 4\n",
    "- De la lista inicial (**lista**) reemplazar los elementos boleanos por 0 y 1 respectivamente."
   ]
  },
  {
   "cell_type": "code",
   "execution_count": 23,
   "id": "ef405145",
   "metadata": {},
   "outputs": [],
   "source": [
    "lista = [\"a\", \"b\", \"c\", \"d\", \"e\", 1, 2, 3, 4, 5, False, True]"
   ]
  },
  {
   "cell_type": "code",
   "execution_count": 24,
   "id": "9fe4632b",
   "metadata": {},
   "outputs": [
    {
     "name": "stdout",
     "output_type": "stream",
     "text": [
      "10\n",
      "['a', 'b', 'c', 'd', 'e', 1, 2, 3, 4, 5, [0], True]\n",
      "\n",
      "5\n",
      "['a', 'b', 'c', 'd', 'e', 1, 2, 3, 4, 5, 0, [1]]\n"
     ]
    }
   ],
   "source": [
    "# Buscamdo la posicion del elemento a cambiar\n",
    "print(lista.index(False))\n",
    "lista[10] = [0] # Lo cambiamos indicando su posición [10]\n",
    "print(lista)\n",
    "\n",
    "print(\"\")\n",
    "\n",
    "lista = [\"a\", \"b\", \"c\", \"d\", \"e\", 1, 2, 3, 4, 5, 0, True]\n",
    "print(lista.index(True))\n",
    "lista[11] = [1]\n",
    "print(lista)"
   ]
  },
  {
   "cell_type": "markdown",
   "id": "0dc22d68",
   "metadata": {},
   "source": [
    "### Ejercicio 5\n",
    "- Aplicar el metodo **.reverse()** a la lista de números."
   ]
  },
  {
   "cell_type": "code",
   "execution_count": 25,
   "id": "e26f8c1a",
   "metadata": {},
   "outputs": [],
   "source": [
    "lista = [\"a\", \"b\", \"c\", \"d\", \"e\", 1, 2, 3, 4, 5, False, True]"
   ]
  },
  {
   "cell_type": "code",
   "execution_count": null,
   "id": "f0af2153-1c80-4f7e-93f9-b3a7fe0a6ce4",
   "metadata": {},
   "outputs": [
    {
     "name": "stdout",
     "output_type": "stream",
     "text": [
      "5\n",
      "9\n",
      "[1, 2, 3, 4, 5]\n",
      "\n",
      "[5, 4, 3, 2, 1]\n"
     ]
    }
   ],
   "source": [
    "# Buscamos los indices de la lista de numeros y los extraemos a otra variable\n",
    "print (lista.index(1))\n",
    "print (lista.index(5))\n",
    "lista_num = lista[5:10]\n",
    "print(lista_num)\n",
    "\n",
    "print(\"\")\n",
    "\n",
    "# Aplicamos la funcion reverse() para invertir la lista\n",
    "lista_num.reverse()\n",
    "print(lista_num)"
   ]
  },
  {
   "cell_type": "markdown",
   "id": "a7fedc64",
   "metadata": {},
   "source": [
    "### Ejercicio 6\n",
    "- Aplicar el método **.sort()** a la lista de números."
   ]
  },
  {
   "cell_type": "code",
   "execution_count": 27,
   "id": "3a3f630e",
   "metadata": {},
   "outputs": [
    {
     "name": "stdout",
     "output_type": "stream",
     "text": [
      "[5, 4, 3, 2, 1]\n",
      "[1, 2, 3, 4, 5]\n"
     ]
    }
   ],
   "source": [
    "# Cojemos la lista anterior y la ordenamos de mayor a menor\n",
    "print(lista_num)\n",
    "lista_num.sort()\n",
    "print(lista_num) "
   ]
  },
  {
   "cell_type": "markdown",
   "id": "6fca8361",
   "metadata": {},
   "source": [
    "### Ejercicio 7\n",
    "- Une las 3 listas para formar la lista inicial otra vez."
   ]
  },
  {
   "cell_type": "code",
   "execution_count": 31,
   "id": "12b94ea1",
   "metadata": {},
   "outputs": [
    {
     "name": "stdout",
     "output_type": "stream",
     "text": [
      "['a', 'b', 'c', 'd', 'e']\n",
      "[1, 2, 3, 4, 5]\n",
      "[False, True]\n",
      "\n",
      "['a', 'b', 'c', 'd', 'e', 1, 2, 3, 4, 5, False, True]\n"
     ]
    }
   ],
   "source": [
    "# Mostramos las listas por separado\n",
    "print(lista_1)\n",
    "print(lista_2)\n",
    "print(lista_3)\n",
    "\n",
    "print(\"\")\n",
    "\n",
    "# Sumamos las listas para crear una con todos los elementos\n",
    "lista = lista_1 + lista_2 + lista_3\n",
    "print(lista)"
   ]
  },
  {
   "cell_type": "markdown",
   "id": "105efdd9",
   "metadata": {},
   "source": [
    "### Ejercicio 8\n",
    "- Dada la siguiente lista de empresas:\n",
    "    1. Ordenar cada lista dentro de la lista de empresas en orden alfabetico.\n",
    "    2. Obtener las empresas: Audi, Avianca y KLM, mediante sus índices y crear una nueva lista con esos elementos."
   ]
  },
  {
   "cell_type": "code",
   "execution_count": 29,
   "id": "0e81c6cb",
   "metadata": {},
   "outputs": [
    {
     "data": {
      "text/plain": [
       "[['Cocacola', 'Pepsi'],\n",
       " ['Meta', 'TW', 'IG'],\n",
       " ['Ferrari', 'Audi', 'Ford', 'Nissan'],\n",
       " ['KLM', 'AA', 'Iberia', 'AE', 'Avianca']]"
      ]
     },
     "execution_count": 29,
     "metadata": {},
     "output_type": "execute_result"
    }
   ],
   "source": [
    "empresas = [[\"Cocacola\", \"Pepsi\"],\n",
    "            [\"Meta\", \"TW\", \"IG\"],\n",
    "            [\"Ferrari\", \"Audi\", \"Ford\", \"Nissan\"],\n",
    "            [\"KLM\", \"AA\", \"Iberia\", \"AE\", \"Avianca\"]]\n",
    "\n",
    "empresas"
   ]
  },
  {
   "cell_type": "code",
   "execution_count": null,
   "id": "4963bdb3",
   "metadata": {},
   "outputs": [
    {
     "name": "stdout",
     "output_type": "stream",
     "text": [
      "4\n",
      "[['Cocacola', 'Pepsi'], ['IG', 'Meta', 'TW'], ['Audi', 'Ferrari', 'Ford', 'Nissan'], ['AA', 'AE', 'Avianca', 'Iberia', 'KLM']]\n"
     ]
    }
   ],
   "source": [
    "# 1. Ordenar cada lista dentro de la lista de empresas en orden alfabetico.\n",
    "# Averiguamos el tamaño de la lista\n",
    "print(len(empresas))\n",
    "\n",
    "# Ordenamos cada lista de manera individual dentro de la lista general\n",
    "empresas[0].sort()\n",
    "empresas[1].sort()\n",
    "empresas[2].sort()\n",
    "empresas[3].sort()\n",
    "print(empresas)"
   ]
  },
  {
   "cell_type": "code",
   "execution_count": null,
   "id": "9f9a41fa",
   "metadata": {},
   "outputs": [
    {
     "name": "stdout",
     "output_type": "stream",
     "text": [
      "0\n",
      "2\n",
      "4\n",
      "\n",
      "['Audi', 'Avianca', 'KLM']\n"
     ]
    }
   ],
   "source": [
    "# 2. Obtener las empresas: Audi, Avianca y KLM, mediante sus índices y crear una nueva lista con esos elementos.\n",
    "\n",
    "# Una vez que sabemos la logitud y lo que hay en cada lista, buscamos los indices de los elementos a extraer\n",
    "print(empresas[2].index(\"Audi\"))\n",
    "print(empresas[3].index(\"Avianca\"))\n",
    "print(empresas[3].index(\"KLM\"))\n",
    "\n",
    "print(\"\")\n",
    "# Los añadimos a la lista nueva\n",
    "empresas_nueva = []\n",
    "empresas_nueva.append(empresas[2][0])\n",
    "empresas_nueva.append(empresas[3][2])\n",
    "empresas_nueva.append(empresas[3][4])\n",
    "print(empresas_nueva)"
   ]
  },
  {
   "cell_type": "code",
   "execution_count": 30,
   "id": "89812952",
   "metadata": {},
   "outputs": [],
   "source": [
    "##############################################################################################################################"
   ]
  }
 ],
 "metadata": {
  "kernelspec": {
   "display_name": "Python 3",
   "language": "python",
   "name": "python3"
  },
  "language_info": {
   "codemirror_mode": {
    "name": "ipython",
    "version": 3
   },
   "file_extension": ".py",
   "mimetype": "text/x-python",
   "name": "python",
   "nbconvert_exporter": "python",
   "pygments_lexer": "ipython3",
   "version": "3.13.0"
  }
 },
 "nbformat": 4,
 "nbformat_minor": 5
}
