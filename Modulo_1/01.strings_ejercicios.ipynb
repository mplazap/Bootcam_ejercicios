{
 "cells": [
  {
   "cell_type": "markdown",
   "id": "18454d15",
   "metadata": {},
   "source": [
    "## Ejercicios - Strings"
   ]
  },
  {
   "cell_type": "code",
   "execution_count": 3,
   "id": "bae6c2a9",
   "metadata": {},
   "outputs": [
    {
     "name": "stdout",
     "output_type": "stream",
     "text": [
      "Nunca confies en un ordenador que no puedas lanzar por una ventana -- Steve Wozniak\n"
     ]
    }
   ],
   "source": [
    "frase = \"Nunca confies en un ordenador que no puedas lanzar por una ventana -- Steve Wozniak\"\n",
    "\n",
    "print(frase)"
   ]
  },
  {
   "cell_type": "markdown",
   "id": "605874f4",
   "metadata": {},
   "source": [
    "### Ejercicio 1\n",
    "- Obtener el largo de la frase."
   ]
  },
  {
   "cell_type": "code",
   "execution_count": 4,
   "id": "9ce4991c",
   "metadata": {},
   "outputs": [
    {
     "data": {
      "text/plain": [
       "83"
      ]
     },
     "execution_count": 4,
     "metadata": {},
     "output_type": "execute_result"
    }
   ],
   "source": [
    "len(frase)"
   ]
  },
  {
   "cell_type": "markdown",
   "id": "8fe445bf",
   "metadata": {},
   "source": [
    "### Ejercicio 2\n",
    "- Obtener la frase **\"lanzar por la ventana\"** usando slicing."
   ]
  },
  {
   "cell_type": "code",
   "execution_count": 5,
   "id": "dd8049a0",
   "metadata": {},
   "outputs": [
    {
     "data": {
      "text/plain": [
       "'lanzar por una ventana'"
      ]
     },
     "execution_count": 5,
     "metadata": {},
     "output_type": "execute_result"
    }
   ],
   "source": [
    "frase[44:66]"
   ]
  },
  {
   "cell_type": "markdown",
   "id": "e50eb318",
   "metadata": {},
   "source": [
    "### Ejercicio 3\n",
    "- Obtener la sección **\"confies en un ordenador\"** haciando slicing de derecha a izquierda, utilizando indexing negativo."
   ]
  },
  {
   "cell_type": "code",
   "execution_count": null,
   "id": "9299725f",
   "metadata": {},
   "outputs": [
    {
     "data": {
      "text/plain": [
       "'confies en un ordenador'"
      ]
     },
     "execution_count": 6,
     "metadata": {},
     "output_type": "execute_result"
    }
   ],
   "source": [
    "# slicing\n",
    "frase[-77 : -54]"
   ]
  },
  {
   "cell_type": "markdown",
   "id": "f64534b8",
   "metadata": {},
   "source": [
    "### Ejercicio 4\n",
    "Haciendo slicing de la variable **frase**:\n",
    "\n",
    "1. Guardar en la variable: **subfrase1** la siguiente sección: **\"un ordenador\"**.\n",
    "2. Guardar en la variable: **subfrase2** la siguiente sección: **\"por una ventanza\"**.\n",
    "3. Guardar en la variable: **subfrase3** la siguiente sección: **\"Steve Wozniak\"**.\n",
    "\n",
    "\n",
    "- Crear la siguiente frase utilizando las variables: **subfrase1**, **subfrase2**, **subfrase3**: **\"un ordenador, por una ventana -- Steve Wozniak\"** y guardarla en una variable. Añade los caracteres que hagan falta para completar la cadena usando _**format**_. Guarda esta frase en la variable **nueva_frase**."
   ]
  },
  {
   "cell_type": "code",
   "execution_count": null,
   "id": "eae3f714",
   "metadata": {},
   "outputs": [
    {
     "name": "stdout",
     "output_type": "stream",
     "text": [
      "Nunca confies en un ordenador que no puedas lanzar por una ventana -- Steve Wozniak\n"
     ]
    }
   ],
   "source": [
    "frase = \"Nunca confies en un ordenador que no puedas lanzar por una ventana -- Steve Wozniak\"\n",
    "print(frase)"
   ]
  },
  {
   "cell_type": "code",
   "execution_count": 8,
   "id": "32dec2c4",
   "metadata": {},
   "outputs": [
    {
     "name": "stdout",
     "output_type": "stream",
     "text": [
      "un ordenador\n"
     ]
    }
   ],
   "source": [
    "# Parte 1\n",
    "subfrase1 = frase[17:29]\n",
    "print(subfrase1)"
   ]
  },
  {
   "cell_type": "code",
   "execution_count": 9,
   "id": "2a36dfd5",
   "metadata": {},
   "outputs": [
    {
     "name": "stdout",
     "output_type": "stream",
     "text": [
      "por una ventana\n"
     ]
    }
   ],
   "source": [
    "# Parte 2 \n",
    "subfrase2 = frase[51:66]\n",
    "print(subfrase2)"
   ]
  },
  {
   "cell_type": "code",
   "execution_count": 14,
   "id": "6f80fe09",
   "metadata": {},
   "outputs": [
    {
     "name": "stdout",
     "output_type": "stream",
     "text": [
      "-- Steve Wozniak\n"
     ]
    }
   ],
   "source": [
    "# Parte 3\n",
    "subfrase3 = frase[67:83]\n",
    "print(subfrase3)"
   ]
  },
  {
   "cell_type": "code",
   "execution_count": 16,
   "id": "527eb5cd",
   "metadata": {},
   "outputs": [
    {
     "name": "stdout",
     "output_type": "stream",
     "text": [
      "un ordenador, por una ventana -- Steve Wozniak\n"
     ]
    }
   ],
   "source": [
    "# Parte 5.1\n",
    "frase_prueba = (subfrase1) + \", \" + (subfrase2) + \" \" + (subfrase3)\n",
    "print (frase_prueba)"
   ]
  },
  {
   "cell_type": "code",
   "execution_count": 20,
   "id": "183d43d1",
   "metadata": {},
   "outputs": [
    {
     "name": "stdout",
     "output_type": "stream",
     "text": [
      "Nunca confies en un ordenador que no puedas lanzar por una ventana -- Steve Wozniak\n"
     ]
    }
   ],
   "source": [
    "# Parte 5.2\n",
    "\n",
    "nueva_frase = f\"Nunca confies en {subfrase1} que no puedas lanzar {subfrase2} {subfrase3}\"\n",
    "print(nueva_frase)\n"
   ]
  },
  {
   "cell_type": "code",
   "execution_count": 21,
   "id": "8ad6d907",
   "metadata": {},
   "outputs": [
    {
     "name": "stdout",
     "output_type": "stream",
     "text": [
      "Nunca confies en un ordenador que no puedas lanzar por una ventana -- Steve Wozniak\n"
     ]
    }
   ],
   "source": [
    "# Parte 5.2 - Otra forma de hacerlo\n",
    "\n",
    "nueva_frase = \"Nunca confies en {} que no puedas lanzar {} {}\".format(subfrase1, subfrase2, subfrase3)\n",
    "print(nueva_frase)"
   ]
  },
  {
   "cell_type": "markdown",
   "id": "4ed01d93",
   "metadata": {},
   "source": [
    "### Ejercicio 5\n",
    "- Hacer stride de paso 2 con **nueva_frase**."
   ]
  },
  {
   "cell_type": "code",
   "execution_count": null,
   "id": "ad0072cd",
   "metadata": {},
   "outputs": [
    {
     "name": "stdout",
     "output_type": "stream",
     "text": [
      "uc ofe nu reao u opea azrpruavnaa- tv ona\n"
     ]
    }
   ],
   "source": [
    "# stride\n",
    "print(nueva_frase[1: -1: 2])"
   ]
  },
  {
   "cell_type": "markdown",
   "id": "49f704a6",
   "metadata": {},
   "source": [
    "### Ejercicio 6\n",
    "- Obten las vocales de la palabra **\"Nunca\"** y **\"una\"**, haciendo slicing y stride a la **frase** original."
   ]
  },
  {
   "cell_type": "code",
   "execution_count": null,
   "id": "e3da06b4",
   "metadata": {},
   "outputs": [
    {
     "name": "stdout",
     "output_type": "stream",
     "text": [
      "Nunca\n",
      "ua\n"
     ]
    }
   ],
   "source": [
    "# Parte 1\n",
    "palabra = frase[0:5] # slicing\n",
    "print(palabra)\n",
    "print(palabra[1:5 :3]) # stride"
   ]
  },
  {
   "cell_type": "code",
   "execution_count": null,
   "id": "3e2759c4",
   "metadata": {},
   "outputs": [
    {
     "name": "stdout",
     "output_type": "stream",
     "text": [
      "una\n",
      "ua\n"
     ]
    }
   ],
   "source": [
    "# Parte 2\n",
    "palabra1 = frase[55:58]\n",
    "print(palabra1)\n",
    "print(palabra1[0:3:2])"
   ]
  },
  {
   "cell_type": "markdown",
   "id": "0a42a1a3",
   "metadata": {},
   "source": [
    "### Ejercicio 7\n",
    "- Usando la variable **frase** encuentra el índice de la palabra **\"ordenador\"** y guardarlo en la variable **indice_1**.\n",
    "- Usando la variable **frase** encuentra el indice de la palabra **\"ventana\"** y guardalo en la variable **indice_2**."
   ]
  },
  {
   "cell_type": "code",
   "execution_count": 82,
   "id": "b91458ad",
   "metadata": {},
   "outputs": [
    {
     "name": "stdout",
     "output_type": "stream",
     "text": [
      "Nunca confies en un ordenador que no puedas lanzar por una ventana -- Steve Wozniak\n"
     ]
    }
   ],
   "source": [
    "rase = \"Nunca confies en un ordenador que no puedas lanzar por una ventana -- Steve Wozniak\"\n",
    "\n",
    "print(frase)"
   ]
  },
  {
   "cell_type": "code",
   "execution_count": null,
   "id": "b01ec2bd",
   "metadata": {},
   "outputs": [
    {
     "name": "stdout",
     "output_type": "stream",
     "text": [
      "20\n"
     ]
    }
   ],
   "source": [
    "# Parte 1\n",
    "indice_1 = frase.find(\"ordenador\")\n",
    "print(indice_1)"
   ]
  },
  {
   "cell_type": "code",
   "execution_count": 84,
   "id": "99f07f56-0a2a-44fb-aba9-1d0f897cceaf",
   "metadata": {},
   "outputs": [
    {
     "name": "stdout",
     "output_type": "stream",
     "text": [
      "59\n"
     ]
    }
   ],
   "source": [
    "# Parte 2\n",
    "indice_2 = frase.find(\"ventana\")\n",
    "print(indice_2)"
   ]
  },
  {
   "cell_type": "markdown",
   "id": "1ba23cc3",
   "metadata": {},
   "source": [
    "### Ejercicio 8\n",
    "- Obtener la frase: **\"ordenador que no puedas lanzar por una ventana\"** haciendo slicing y utilizando las variables: **indice_1** y **indice_2**."
   ]
  },
  {
   "cell_type": "code",
   "execution_count": 102,
   "id": "3d07c17e",
   "metadata": {},
   "outputs": [
    {
     "name": "stdout",
     "output_type": "stream",
     "text": [
      "ordenador que no puedas lanzar por una ventana\n"
     ]
    }
   ],
   "source": [
    "frase_ejer_8 = frase[indice_1:indice_2 + 7]\n",
    "print(frase_ejer_8)"
   ]
  },
  {
   "cell_type": "markdown",
   "id": "4ce3d23c",
   "metadata": {},
   "source": [
    "### Ejercicio 9\n",
    "- Verificar si la **frase** original empieza con la cadena **\"nunca\"**."
   ]
  },
  {
   "cell_type": "code",
   "execution_count": 113,
   "id": "23f39959",
   "metadata": {},
   "outputs": [
    {
     "name": "stdout",
     "output_type": "stream",
     "text": [
      "False\n"
     ]
    }
   ],
   "source": [
    "print(frase.startswith(\"nunca\"))"
   ]
  },
  {
   "cell_type": "markdown",
   "id": "67350650",
   "metadata": {},
   "source": [
    "### Ejercicio 10\n",
    "- Verificar si la **frase** original termina con **\".\"**"
   ]
  },
  {
   "cell_type": "code",
   "execution_count": 111,
   "id": "fd459e90",
   "metadata": {},
   "outputs": [
    {
     "name": "stdout",
     "output_type": "stream",
     "text": [
      "False\n"
     ]
    }
   ],
   "source": [
    "print(frase.endswith(\".\"))"
   ]
  },
  {
   "cell_type": "markdown",
   "id": "92e148d9",
   "metadata": {},
   "source": [
    "### Ejercicio 11\n",
    "- Separar la frase por la cadena **\"que\"** utilizando **.split()**."
   ]
  },
  {
   "cell_type": "code",
   "execution_count": null,
   "id": "d24490e1",
   "metadata": {},
   "outputs": [],
   "source": []
  },
  {
   "cell_type": "code",
   "execution_count": null,
   "id": "27271dc2-0996-4729-bd23-1aa49abd1ae9",
   "metadata": {},
   "outputs": [],
   "source": []
  },
  {
   "cell_type": "code",
   "execution_count": null,
   "id": "18db891c-2cce-4660-8194-ad921ed92a22",
   "metadata": {},
   "outputs": [],
   "source": []
  },
  {
   "cell_type": "markdown",
   "id": "4bd93d27",
   "metadata": {},
   "source": [
    "### Ejercicio 12\n",
    "- Separar la frase por la letra **\"o\"** utilizando **.split()**"
   ]
  },
  {
   "cell_type": "code",
   "execution_count": null,
   "id": "922a9f36",
   "metadata": {},
   "outputs": [],
   "source": []
  },
  {
   "cell_type": "code",
   "execution_count": null,
   "id": "c280cd39-ded7-477b-87ac-0cce0291fb29",
   "metadata": {},
   "outputs": [],
   "source": []
  },
  {
   "cell_type": "code",
   "execution_count": null,
   "id": "a7ee8858-9c18-4e4f-a6d8-39283f4e351e",
   "metadata": {},
   "outputs": [],
   "source": []
  },
  {
   "cell_type": "markdown",
   "id": "fb6a50cc",
   "metadata": {},
   "source": [
    "### Ejercicio 13\n",
    "- Cuenta cuantas veces aparecen las vocales en la **frase** original."
   ]
  },
  {
   "cell_type": "code",
   "execution_count": null,
   "id": "64cd99f1",
   "metadata": {},
   "outputs": [],
   "source": []
  },
  {
   "cell_type": "code",
   "execution_count": null,
   "id": "180c8d39",
   "metadata": {},
   "outputs": [],
   "source": []
  },
  {
   "cell_type": "code",
   "execution_count": null,
   "id": "c8fb06ee",
   "metadata": {},
   "outputs": [],
   "source": []
  },
  {
   "cell_type": "code",
   "execution_count": null,
   "id": "e9675c85",
   "metadata": {},
   "outputs": [],
   "source": []
  },
  {
   "cell_type": "code",
   "execution_count": null,
   "id": "884063f4",
   "metadata": {},
   "outputs": [],
   "source": []
  },
  {
   "cell_type": "code",
   "execution_count": 13,
   "id": "04bac0f8",
   "metadata": {},
   "outputs": [],
   "source": [
    "##############################################################################################################################"
   ]
  }
 ],
 "metadata": {
  "kernelspec": {
   "display_name": "Python 3",
   "language": "python",
   "name": "python3"
  },
  "language_info": {
   "codemirror_mode": {
    "name": "ipython",
    "version": 3
   },
   "file_extension": ".py",
   "mimetype": "text/x-python",
   "name": "python",
   "nbconvert_exporter": "python",
   "pygments_lexer": "ipython3",
   "version": "3.13.0"
  }
 },
 "nbformat": 4,
 "nbformat_minor": 5
}
