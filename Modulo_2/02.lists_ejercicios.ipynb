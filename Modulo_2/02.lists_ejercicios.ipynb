{
 "cells": [
  {
   "cell_type": "markdown",
   "id": "689c1a0e",
   "metadata": {},
   "source": [
    "## Ejercicios - Lists"
   ]
  },
  {
   "cell_type": "code",
   "execution_count": null,
   "id": "29b1adca",
   "metadata": {},
   "outputs": [],
   "source": [
    "lista = [\"a\", \"b\", \"c\", \"d\", \"e\", 1, 2, 3, 4, 5, False, True]"
   ]
  },
  {
   "cell_type": "markdown",
   "id": "3a92774b",
   "metadata": {},
   "source": [
    "### Ejercicio 1\n",
    "- En listas separadas obtener una lista paras los caracteres, otra para los enteros y otra para lo booleanos, utilizando slicing.\n",
    "- Llamalas **lista_1**, **lista_2**, **lista_3** respectivamente."
   ]
  },
  {
   "cell_type": "code",
   "execution_count": null,
   "id": "d8846c0d",
   "metadata": {},
   "outputs": [],
   "source": []
  },
  {
   "cell_type": "code",
   "execution_count": null,
   "id": "b869534e",
   "metadata": {},
   "outputs": [],
   "source": []
  },
  {
   "cell_type": "code",
   "execution_count": null,
   "id": "f633c099",
   "metadata": {},
   "outputs": [],
   "source": []
  },
  {
   "cell_type": "markdown",
   "id": "2c73b574",
   "metadata": {},
   "source": [
    "### Ejercicio 2\n",
    "- Insertar las vocales faltantes a la lista de caracteres."
   ]
  },
  {
   "cell_type": "code",
   "execution_count": null,
   "id": "7ff75b01",
   "metadata": {},
   "outputs": [],
   "source": []
  },
  {
   "cell_type": "code",
   "execution_count": null,
   "id": "d6903710",
   "metadata": {},
   "outputs": [],
   "source": []
  },
  {
   "cell_type": "code",
   "execution_count": null,
   "id": "58d18658",
   "metadata": {},
   "outputs": [],
   "source": []
  },
  {
   "cell_type": "markdown",
   "id": "01569a27",
   "metadata": {},
   "source": [
    "### Ejercicio 3\n",
    "- Eliminar los caracteres que no son vocales de la lista de caracteres."
   ]
  },
  {
   "cell_type": "code",
   "execution_count": null,
   "id": "0b97f95e",
   "metadata": {},
   "outputs": [],
   "source": []
  },
  {
   "cell_type": "code",
   "execution_count": null,
   "id": "8dde3078",
   "metadata": {},
   "outputs": [],
   "source": []
  },
  {
   "cell_type": "code",
   "execution_count": null,
   "id": "f8b25df7",
   "metadata": {},
   "outputs": [],
   "source": []
  },
  {
   "cell_type": "markdown",
   "id": "a1f846a6",
   "metadata": {},
   "source": [
    "### Ejercico 4\n",
    "- De la lista inicial (**lista**) reemplazar los elementos boleanos por 0 y 1 respectivamente."
   ]
  },
  {
   "cell_type": "code",
   "execution_count": null,
   "id": "ef405145",
   "metadata": {},
   "outputs": [],
   "source": []
  },
  {
   "cell_type": "code",
   "execution_count": null,
   "id": "9fe4632b",
   "metadata": {},
   "outputs": [],
   "source": []
  },
  {
   "cell_type": "code",
   "execution_count": null,
   "id": "7ff0cd89",
   "metadata": {},
   "outputs": [],
   "source": []
  },
  {
   "cell_type": "markdown",
   "id": "0dc22d68",
   "metadata": {},
   "source": [
    "### Ejercicio 5\n",
    "- Aplicar el metodo **.reverse()** a la lista de números."
   ]
  },
  {
   "cell_type": "code",
   "execution_count": null,
   "id": "e26f8c1a",
   "metadata": {},
   "outputs": [],
   "source": []
  },
  {
   "cell_type": "code",
   "execution_count": null,
   "id": "f0af2153-1c80-4f7e-93f9-b3a7fe0a6ce4",
   "metadata": {},
   "outputs": [],
   "source": []
  },
  {
   "cell_type": "code",
   "execution_count": null,
   "id": "4271add1",
   "metadata": {},
   "outputs": [],
   "source": []
  },
  {
   "cell_type": "markdown",
   "id": "a7fedc64",
   "metadata": {},
   "source": [
    "### Ejercicio 6\n",
    "- Aplicar el método **.sort()** a la lista de números."
   ]
  },
  {
   "cell_type": "code",
   "execution_count": null,
   "id": "3a3f630e",
   "metadata": {},
   "outputs": [],
   "source": []
  },
  {
   "cell_type": "code",
   "execution_count": null,
   "id": "ee4e49c9-a0f3-488c-a015-c5f7b88249e5",
   "metadata": {},
   "outputs": [],
   "source": []
  },
  {
   "cell_type": "code",
   "execution_count": null,
   "id": "10440560",
   "metadata": {},
   "outputs": [],
   "source": []
  },
  {
   "cell_type": "markdown",
   "id": "6fca8361",
   "metadata": {},
   "source": [
    "### Ejercicio 7\n",
    "- Une las 3 listas para formar la lista inicial otra vez."
   ]
  },
  {
   "cell_type": "code",
   "execution_count": null,
   "id": "12b94ea1",
   "metadata": {},
   "outputs": [],
   "source": []
  },
  {
   "cell_type": "code",
   "execution_count": null,
   "id": "eb64e86c",
   "metadata": {},
   "outputs": [],
   "source": []
  },
  {
   "cell_type": "code",
   "execution_count": null,
   "id": "2a29eab4",
   "metadata": {},
   "outputs": [],
   "source": []
  },
  {
   "cell_type": "markdown",
   "id": "105efdd9",
   "metadata": {},
   "source": [
    "### Ejercicio 8\n",
    "- Dada la siguiente lista de empresas:\n",
    "    1. Ordenar cada lista dentro de la lista de empresas en orden alfabetico.\n",
    "    2. Obtener las empresas: Audi, Avianca y KLM, mediante sus índices y crear una nueva lista con esos elementos."
   ]
  },
  {
   "cell_type": "code",
   "execution_count": null,
   "id": "0e81c6cb",
   "metadata": {},
   "outputs": [],
   "source": [
    "empresas = [[\"Cocacola\", \"Pepsi\"],\n",
    "            [\"Meta\", \"TW\", \"IG\"],\n",
    "            [\"Ferrari\", \"Audi\", \"Ford\", \"Nissan\"],\n",
    "            [\"KLM\", \"AA\", \"Iberia\", \"AE\", \"Avianca\"]]\n",
    "\n",
    "empresas"
   ]
  },
  {
   "cell_type": "code",
   "execution_count": null,
   "id": "4963bdb3",
   "metadata": {},
   "outputs": [],
   "source": []
  },
  {
   "cell_type": "code",
   "execution_count": null,
   "id": "9f9a41fa",
   "metadata": {},
   "outputs": [],
   "source": []
  },
  {
   "cell_type": "code",
   "execution_count": null,
   "id": "89812952",
   "metadata": {},
   "outputs": [],
   "source": [
    "##############################################################################################################################"
   ]
  }
 ],
 "metadata": {
  "kernelspec": {
   "display_name": "Python 3 (ipykernel)",
   "language": "python",
   "name": "python3"
  },
  "language_info": {
   "codemirror_mode": {
    "name": "ipython",
    "version": 3
   },
   "file_extension": ".py",
   "mimetype": "text/x-python",
   "name": "python",
   "nbconvert_exporter": "python",
   "pygments_lexer": "ipython3",
   "version": "3.11.5"
  }
 },
 "nbformat": 4,
 "nbformat_minor": 5
}
