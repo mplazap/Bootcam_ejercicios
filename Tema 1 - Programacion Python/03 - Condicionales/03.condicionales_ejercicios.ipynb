{
 "cells": [
  {
   "cell_type": "markdown",
   "id": "cc6f0931",
   "metadata": {},
   "source": [
    "## Ejecicios - Condicionales"
   ]
  },
  {
   "cell_type": "markdown",
   "id": "45bf39fc",
   "metadata": {},
   "source": [
    "### Ejercicio 1\n",
    "\n",
    "- Perdirle al usuario que ingrese un número mayor a 0\n",
    "- Luego que imprima por pantalla si el número es par o impar."
   ]
  },
  {
   "cell_type": "code",
   "execution_count": null,
   "id": "ce78094c",
   "metadata": {},
   "outputs": [
    {
     "name": "stdout",
     "output_type": "stream",
     "text": [
      "numero incorrecto\n",
      "5\n",
      "numero impar\n"
     ]
    }
   ],
   "source": [
    "\n",
    "# Crear un bucle while True que pida el número hasta que esté bien (hace break y sales del bucle) y sea mayor que 0\n",
    "\n",
    "while True:\n",
    "    try:\n",
    "        numero = int(input(\"Ingrese un número mayor que 0\"))\n",
    "        if numero > 0 and numero < 50:\n",
    "            break\n",
    "    except ValueError:\n",
    "        pass # ignoramos el error no hacemos nada con él. Se podría utilizar un logger para imprimir un error formateado\n",
    "        \n",
    "    print(\"numero incorrecto\")\n",
    "\n",
    "   \n",
    "print(numero)\n",
    "if numero % 2 == 0:\n",
    "    print(\"numero par\")\n",
    "else:\n",
    "    print(\"numero impar\")\n",
    "\n",
    "# print(numero)\n",
    "# print(type(numero))\n",
    "# if numero > 0:\n",
    "#    print(\"El numero es mayor que cero, muy bien\")\n",
    "\n",
    "# Imprimir si el numero es par o impar con if else"
   ]
  },
  {
   "cell_type": "code",
   "execution_count": 9,
   "id": "6fe828f0",
   "metadata": {},
   "outputs": [
    {
     "name": "stdout",
     "output_type": "stream",
     "text": [
      "Entrada no válida. Por favor, ingrese un número entero.\n",
      "El número debe ser mayor que 0. Inténtalo de nuevo.\n",
      "El número debe ser mayor que 0. Inténtalo de nuevo.\n",
      "El número 3 es impar.\n"
     ]
    }
   ],
   "source": [
    "while True:\n",
    "    try:\n",
    "\n",
    "        numero = input(\"Ingrese un número mayor que 0: \")\n",
    "        \n",
    "        if not numero.strip():\n",
    "            \n",
    "            print(\"Entrada vacía. Por favor, ingrese un número válido.\")      \n",
    "          \n",
    "        numero = int(numero)\n",
    "        \n",
    "        if numero > 0:\n",
    "            break \n",
    "        else:\n",
    "            print(\"El número debe ser mayor que 0. Inténtalo de nuevo.\")\n",
    "            \n",
    "    except ValueError:\n",
    "        \n",
    "        print(\"Entrada no válida. Por favor, ingrese un número entero.\")\n",
    "\n",
    "if numero % 2 == 0:\n",
    "    print(f\"El número {numero} es par.\")\n",
    "else:\n",
    "    print(f\"El número {numero} es impar.\")"
   ]
  },
  {
   "cell_type": "code",
   "execution_count": null,
   "id": "4047176c",
   "metadata": {},
   "outputs": [],
   "source": []
  },
  {
   "cell_type": "code",
   "execution_count": null,
   "id": "b98b7cc7",
   "metadata": {},
   "outputs": [],
   "source": []
  },
  {
   "cell_type": "markdown",
   "id": "50f7c887",
   "metadata": {},
   "source": [
    "### Ejercicio 2\n",
    "- Pedirle al usuario que ingrese una palabra.\n",
    "- Contar el número de letras y decir si es una palabra larga (10 caracteres o más) o corta."
   ]
  },
  {
   "cell_type": "code",
   "execution_count": null,
   "id": "dd695bac",
   "metadata": {},
   "outputs": [],
   "source": []
  },
  {
   "cell_type": "code",
   "execution_count": null,
   "id": "9fbdea13",
   "metadata": {},
   "outputs": [],
   "source": []
  },
  {
   "cell_type": "code",
   "execution_count": null,
   "id": "8f385606",
   "metadata": {},
   "outputs": [],
   "source": []
  },
  {
   "cell_type": "markdown",
   "id": "c3b58038",
   "metadata": {},
   "source": [
    "### Ejercicio 3\n",
    "- Pedirle al usuario que ingrese una palabra.\n",
    "- Contar cuantas vocales tiene e imprimir cuantas hay de cada una.\n",
    "- Luego imprimir por pantalla si tiene más vocales que consonantes."
   ]
  },
  {
   "cell_type": "code",
   "execution_count": null,
   "id": "e31e702d",
   "metadata": {},
   "outputs": [],
   "source": []
  },
  {
   "cell_type": "code",
   "execution_count": null,
   "id": "21726bb9",
   "metadata": {},
   "outputs": [],
   "source": []
  },
  {
   "cell_type": "code",
   "execution_count": null,
   "id": "0e3bb7e3",
   "metadata": {},
   "outputs": [],
   "source": []
  },
  {
   "cell_type": "markdown",
   "id": "c075c77b",
   "metadata": {},
   "source": [
    "### Ejercicio 4\n",
    "- Pedir al usuario que ingrese una frase.\n",
    "- Contar el número de palabras.\n",
    "- Si el número de palabras es impar imprimir \"El número de palabras es impar\" de lo contrario imprimir \"El número de palabras es par\"."
   ]
  },
  {
   "cell_type": "code",
   "execution_count": null,
   "id": "67962e21",
   "metadata": {},
   "outputs": [],
   "source": []
  },
  {
   "cell_type": "code",
   "execution_count": null,
   "id": "0cdfdbbd",
   "metadata": {},
   "outputs": [],
   "source": []
  },
  {
   "cell_type": "code",
   "execution_count": null,
   "id": "8c1baece",
   "metadata": {},
   "outputs": [],
   "source": []
  },
  {
   "cell_type": "code",
   "execution_count": null,
   "id": "38fb44c7",
   "metadata": {},
   "outputs": [],
   "source": [
    "##############################################################################################################################"
   ]
  }
 ],
 "metadata": {
  "kernelspec": {
   "display_name": "Python 3",
   "language": "python",
   "name": "python3"
  },
  "language_info": {
   "codemirror_mode": {
    "name": "ipython",
    "version": 3
   },
   "file_extension": ".py",
   "mimetype": "text/x-python",
   "name": "python",
   "nbconvert_exporter": "python",
   "pygments_lexer": "ipython3",
   "version": "3.13.0"
  }
 },
 "nbformat": 4,
 "nbformat_minor": 5
}
