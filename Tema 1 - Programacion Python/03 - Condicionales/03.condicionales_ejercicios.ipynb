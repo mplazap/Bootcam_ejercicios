{
 "cells": [
  {
   "cell_type": "markdown",
   "id": "cc6f0931",
   "metadata": {},
   "source": [
    "## Ejecicios - Condicionales"
   ]
  },
  {
   "cell_type": "markdown",
   "id": "45bf39fc",
   "metadata": {},
   "source": [
    "### Ejercicio 1\n",
    "\n",
    "- Perdirle al usuario que ingrese un número mayor a 0\n",
    "- Luego que imprima por pantalla si el número es par o impar."
   ]
  },
  {
   "cell_type": "code",
   "execution_count": null,
   "id": "ce78094c",
   "metadata": {},
   "outputs": [
    {
     "name": "stdout",
     "output_type": "stream",
     "text": [
      "numero incorrecto\n",
      "5\n",
      "numero impar\n"
     ]
    }
   ],
   "source": [
    "\n",
    "# Crear un bucle while True que pida el número hasta que esté bien (hace break y sales del bucle) y sea mayor que 0\n",
    "\n",
    "while True:\n",
    "    try:\n",
    "        numero = int(input(\"Ingrese un número mayor que 0\"))\n",
    "        if numero > 0 and numero < 50:\n",
    "            break\n",
    "    except ValueError:\n",
    "        pass # ignoramos el error no hacemos nada con él. Se podría utilizar un logger para imprimir un error formateado\n",
    "        \n",
    "    print(\"numero incorrecto\")\n",
    "\n",
    "   \n",
    "print(numero)\n",
    "if numero % 2 == 0:\n",
    "    print(\"numero par\")\n",
    "else:\n",
    "    print(\"numero impar\")\n",
    "\n",
    "# print(numero)\n",
    "# print(type(numero))\n",
    "# if numero > 0:\n",
    "#    print(\"El numero es mayor que cero, muy bien\")\n",
    "\n",
    "# Imprimir si el numero es par o impar con if else"
   ]
  },
  {
   "cell_type": "code",
   "execution_count": 9,
   "id": "6fe828f0",
   "metadata": {},
   "outputs": [
    {
     "name": "stdout",
     "output_type": "stream",
     "text": [
      "Entrada no válida. Por favor, ingrese un número entero.\n",
      "El número debe ser mayor que 0. Inténtalo de nuevo.\n",
      "El número debe ser mayor que 0. Inténtalo de nuevo.\n",
      "El número 3 es impar.\n"
     ]
    }
   ],
   "source": [
    "while True:\n",
    "    try:\n",
    "\n",
    "        numero = input(\"Ingrese un número mayor que 0: \")\n",
    "        \n",
    "        if not numero.strip():\n",
    "            \n",
    "            print(\"Entrada vacía. Por favor, ingrese un número válido.\")      \n",
    "          \n",
    "        numero = int(numero)\n",
    "        \n",
    "        if numero > 0:\n",
    "            break \n",
    "        else:\n",
    "            print(\"El número debe ser mayor que 0. Inténtalo de nuevo.\")\n",
    "            \n",
    "    except ValueError:\n",
    "        \n",
    "        print(\"Entrada no válida. Por favor, ingrese un número entero.\")\n",
    "\n",
    "if numero % 2 == 0:\n",
    "    print(f\"El número {numero} es par.\")\n",
    "else:\n",
    "    print(f\"El número {numero} es impar.\")"
   ]
  },
  {
   "cell_type": "markdown",
   "id": "50f7c887",
   "metadata": {},
   "source": [
    "### Ejercicio 2\n",
    "- Pedirle al usuario que ingrese una palabra.\n",
    "- Contar el número de letras y decir si es una palabra larga (10 caracteres o más) o corta."
   ]
  },
  {
   "cell_type": "code",
   "execution_count": 10,
   "id": "dd695bac",
   "metadata": {},
   "outputs": [
    {
     "name": "stdout",
     "output_type": "stream",
     "text": [
      "La palabra 'dinosaurio' tiene 10 letras y es Larga.\n"
     ]
    }
   ],
   "source": [
    "palabra = input( \"Introduce una palabra\").strip()\n",
    "num_letras = len(palabra)\n",
    "\n",
    "if num_letras >= 10:\n",
    "    long_palabra = \"Larga\"\n",
    "else:\n",
    "    long_palabra = \"Corta\"\n",
    "\n",
    "print(f\"La palabra '{palabra}' tiene {num_letras} letras y es {long_palabra}.\")"
   ]
  },
  {
   "cell_type": "markdown",
   "id": "c3b58038",
   "metadata": {},
   "source": [
    "### Ejercicio 3\n",
    "- Pedirle al usuario que ingrese una palabra.\n",
    "- Contar cuantas vocales tiene e imprimir cuantas hay de cada una.\n",
    "- Luego imprimir por pantalla si tiene más vocales que consonantes."
   ]
  },
  {
   "cell_type": "code",
   "execution_count": 12,
   "id": "e31e702d",
   "metadata": {},
   "outputs": [
    {
     "name": "stdout",
     "output_type": "stream",
     "text": [
      " Ha habido un total de \n",
      "a: 1\n",
      "e: 1\n",
      "i: 0\n",
      "o: 2\n",
      "u: 0\n",
      "Hay mas consonantes\n"
     ]
    }
   ],
   "source": [
    "# Pedimos la palabra al usuario\n",
    "palabra_1 = input(\"Introduce una palabra\").strip().lower()\n",
    "\n",
    "# Inicializamo slo scontadores de vocales a 0\n",
    "a_count = e_count = i_count = o_count = u_count = 0\n",
    "\n",
    "# Inicializamos los contadores totales\n",
    "total_vocales = 0\n",
    "total_consonantes = 0\n",
    "\n",
    "# Recorremos la palabra comparando las letras\n",
    "for letra in palabra_1:\n",
    "    if letra.isalpha(): # Ignoramos numeros y simbolos\n",
    "        if letra in \"aeiou\": #indicamos que busque la letra en las vocales\n",
    "            if letra == \"a\":\n",
    "                a_count += 1\n",
    "            elif letra == \"e\":\n",
    "                e_count += 1\n",
    "            elif letra == \"i\":\n",
    "                i_count += 1\n",
    "            elif letra == \"o\":\n",
    "                o_count += 1\n",
    "            elif letra == \"u\":\n",
    "                u_count += 1\n",
    "            total_vocales += 1\n",
    "        else:\n",
    "            total_consonantes += 1\n",
    "            \n",
    "\n",
    " # Mostramos el numero total de cada vocal\n",
    "print(\" Ha habido un total de \")\n",
    "print(f\"a: {a_count}\")\n",
    "print(f\"e: {e_count}\")  \n",
    "print(f\"i: {i_count}\")  \n",
    "print(f\"o: {o_count}\")  \n",
    "print(f\"u: {u_count}\")     \n",
    "\n",
    "# Comprobar si hay mas vocales que consonantes\n",
    "if total_vocales > total_consonantes:\n",
    "    print(\"Hay mas vocales\")\n",
    "elif total_vocales < total_consonantes:\n",
    "     print(\"Hay mas consonantes\")\n",
    "else:\n",
    "    print(\"Hay la misma cantidad de vocales y consonantes\")       "
   ]
  },
  {
   "cell_type": "markdown",
   "id": "c075c77b",
   "metadata": {},
   "source": [
    "### Ejercicio 4\n",
    "- Pedir al usuario que ingrese una frase.\n",
    "- Contar el número de palabras.\n",
    "- Si el número de palabras es impar imprimir \"El número de palabras es impar\" de lo contrario imprimir \"El número de palabras es par\"."
   ]
  },
  {
   "cell_type": "code",
   "execution_count": 19,
   "id": "67962e21",
   "metadata": {},
   "outputs": [
    {
     "name": "stdout",
     "output_type": "stream",
     "text": [
      "La frase tiene 4 palabras\n",
      "El numero de palabras es par\n"
     ]
    }
   ],
   "source": [
    "frase = input(\"Ingresa una frase\").strip().lower()\n",
    "\n",
    "# Con split() dividimos la frase en palabras\n",
    "# Con len contamos las palabras\n",
    "cantidad_palabras = len(frase.split())\n",
    "\n",
    "print(f\"La frase tiene {cantidad_palabras} palabras\")\n",
    "\n",
    "# Comprobamos si en Nº de palabras es par o impar\n",
    "if cantidad_palabras %2 == 0:\n",
    "    print(\"El numero de palabras es par\")\n",
    "else:\n",
    "    print(\"El numero de palabras es impar\")"
   ]
  },
  {
   "cell_type": "code",
   "execution_count": null,
   "id": "38fb44c7",
   "metadata": {},
   "outputs": [],
   "source": [
    "##############################################################################################################################"
   ]
  }
 ],
 "metadata": {
  "kernelspec": {
   "display_name": "base",
   "language": "python",
   "name": "python3"
  },
  "language_info": {
   "codemirror_mode": {
    "name": "ipython",
    "version": 3
   },
   "file_extension": ".py",
   "mimetype": "text/x-python",
   "name": "python",
   "nbconvert_exporter": "python",
   "pygments_lexer": "ipython3",
   "version": "3.12.7"
  }
 },
 "nbformat": 4,
 "nbformat_minor": 5
}
