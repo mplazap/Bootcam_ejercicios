{
 "cells": [
  {
   "cell_type": "markdown",
   "id": "d6ba5bce",
   "metadata": {},
   "source": [
    "## Ejercicios - Bucles"
   ]
  },
  {
   "cell_type": "markdown",
   "id": "80012d75",
   "metadata": {},
   "source": [
    "### Ejercicio 1\n",
    "\n",
    "- Dada la siguiente **lista = [1, 2, 3, 4, 5, 6, 7, 8, 9, 10]**, imprimir cada número sumandole 10 unidades utilizando un bucle **`for`**."
   ]
  },
  {
   "cell_type": "code",
   "execution_count": null,
   "id": "5436374e",
   "metadata": {},
   "outputs": [],
   "source": []
  },
  {
   "cell_type": "code",
   "execution_count": null,
   "id": "b77fc537",
   "metadata": {},
   "outputs": [],
   "source": []
  },
  {
   "cell_type": "code",
   "execution_count": null,
   "id": "4dab770a",
   "metadata": {},
   "outputs": [],
   "source": []
  },
  {
   "cell_type": "markdown",
   "id": "615b834a",
   "metadata": {},
   "source": [
    "### Ejercicio 2\n",
    "- Crea un bucle for que muestre la tabla de multiplicar del 1 al 10 de un número dado por el usuario.\n",
    "- Ejemplo:\n",
    "\n",
    "```html\n",
    "1 x 2 = 2\n",
    "2 x 2 = 4\n",
    "3 x 2 = 6\n",
    "4 x 2 = 8\n",
    "5 x 2 = 10\n",
    "6 x 2 = 12\n",
    "7 x 2 = 14\n",
    "8 x 2 = 16\n",
    "9 x 2 = 18\n",
    "10 x 2 = 20\n",
    "```"
   ]
  },
  {
   "cell_type": "code",
   "execution_count": null,
   "id": "4c07823e",
   "metadata": {},
   "outputs": [],
   "source": []
  },
  {
   "cell_type": "code",
   "execution_count": null,
   "id": "c2777e61",
   "metadata": {},
   "outputs": [],
   "source": []
  },
  {
   "cell_type": "code",
   "execution_count": null,
   "id": "b5426c6d",
   "metadata": {},
   "outputs": [],
   "source": []
  },
  {
   "cell_type": "markdown",
   "id": "3c8a4c44",
   "metadata": {},
   "source": [
    "### Ejercicio 3\n",
    "- Crear una lista vacia.\n",
    "- Llenar la lista con los numero del 200 al 215 usando un bucle **`for`**."
   ]
  },
  {
   "cell_type": "code",
   "execution_count": null,
   "id": "92d1be47",
   "metadata": {},
   "outputs": [],
   "source": []
  },
  {
   "cell_type": "code",
   "execution_count": null,
   "id": "f0855161",
   "metadata": {},
   "outputs": [],
   "source": []
  },
  {
   "cell_type": "code",
   "execution_count": null,
   "id": "864fac96",
   "metadata": {},
   "outputs": [],
   "source": []
  },
  {
   "cell_type": "markdown",
   "id": "073bada8",
   "metadata": {},
   "source": [
    "### Ejercicio 4\n",
    "- Crea una lista de números pares entre el 555 y el 599 utilizando bucle **`for`**."
   ]
  },
  {
   "cell_type": "code",
   "execution_count": null,
   "id": "2ea6dc60",
   "metadata": {
    "scrolled": true
   },
   "outputs": [],
   "source": []
  },
  {
   "cell_type": "code",
   "execution_count": null,
   "id": "e361b1ba",
   "metadata": {},
   "outputs": [],
   "source": []
  },
  {
   "cell_type": "code",
   "execution_count": null,
   "id": "18fb0d85",
   "metadata": {},
   "outputs": [],
   "source": []
  },
  {
   "cell_type": "markdown",
   "id": "282e98c2",
   "metadata": {},
   "source": [
    "### Ejercicio 5\n",
    "- Crea un bucle for que sume los valores de la siguiente lista: **[51, 52, 53, 54, 55]**."
   ]
  },
  {
   "cell_type": "code",
   "execution_count": null,
   "id": "3d4d4485",
   "metadata": {},
   "outputs": [],
   "source": []
  },
  {
   "cell_type": "code",
   "execution_count": null,
   "id": "30c815f0",
   "metadata": {},
   "outputs": [],
   "source": []
  },
  {
   "cell_type": "code",
   "execution_count": null,
   "id": "dee25278",
   "metadata": {},
   "outputs": [],
   "source": []
  },
  {
   "cell_type": "markdown",
   "id": "ac9f3703",
   "metadata": {},
   "source": [
    "### Ejercicio 6\n",
    "- Crea una lista con 5 elementos y cada elemento de esa lista, va a ser una lista con los siguientes datos: **[1, 2, 3]**, utiliza 2 **`for`** anidados.\n",
    "\n",
    "- Resultado: [[1, 2, 3], [1, 2, 3], [1, 2, 3], [1, 2, 3], [1, 2, 3]]"
   ]
  },
  {
   "cell_type": "code",
   "execution_count": null,
   "id": "70ba6e94",
   "metadata": {},
   "outputs": [],
   "source": []
  },
  {
   "cell_type": "code",
   "execution_count": null,
   "id": "c40c21e9",
   "metadata": {},
   "outputs": [],
   "source": []
  },
  {
   "cell_type": "code",
   "execution_count": null,
   "id": "beeacbeb",
   "metadata": {},
   "outputs": [],
   "source": []
  },
  {
   "cell_type": "markdown",
   "id": "b7bb3dcc",
   "metadata": {},
   "source": [
    "### Ejercicio 7\n",
    "- Crea un bucle que cuente del 10 al 1."
   ]
  },
  {
   "cell_type": "code",
   "execution_count": null,
   "id": "ac6f8092",
   "metadata": {},
   "outputs": [],
   "source": []
  },
  {
   "cell_type": "code",
   "execution_count": null,
   "id": "22d3a338",
   "metadata": {},
   "outputs": [],
   "source": []
  },
  {
   "cell_type": "code",
   "execution_count": null,
   "id": "9153024c",
   "metadata": {},
   "outputs": [],
   "source": []
  },
  {
   "cell_type": "markdown",
   "id": "6d158465",
   "metadata": {},
   "source": [
    "### Ejercicio 8\n",
    "- Crea dos variables llamadas **par** e **impar** e inicializalas en 0.\n",
    "- Dada la siguiente lista de números = **[10, 7, 8, 3, 5, 2, 71, 21, 88]**, crea un bucle que recorra la lista y sume los números pares a la variable **par** y sume los números impares a la variable **impares**."
   ]
  },
  {
   "cell_type": "code",
   "execution_count": null,
   "id": "df34a94b",
   "metadata": {},
   "outputs": [],
   "source": []
  },
  {
   "cell_type": "code",
   "execution_count": null,
   "id": "0fa5dcb9",
   "metadata": {},
   "outputs": [],
   "source": []
  },
  {
   "cell_type": "code",
   "execution_count": null,
   "id": "24925fcc",
   "metadata": {},
   "outputs": [],
   "source": []
  },
  {
   "cell_type": "markdown",
   "id": "367b6971",
   "metadata": {},
   "source": [
    "### Ejercicio 9\n",
    "- Crea una lista con 5 colores diferentes.\n",
    "- Y con bucles anidados imprime las letras de los colores."
   ]
  },
  {
   "cell_type": "code",
   "execution_count": null,
   "id": "01085cd1",
   "metadata": {},
   "outputs": [],
   "source": []
  },
  {
   "cell_type": "code",
   "execution_count": null,
   "id": "162f2a39",
   "metadata": {},
   "outputs": [],
   "source": []
  },
  {
   "cell_type": "code",
   "execution_count": null,
   "id": "976981fa",
   "metadata": {},
   "outputs": [],
   "source": []
  },
  {
   "cell_type": "markdown",
   "id": "bf59c876",
   "metadata": {},
   "source": [
    "### Ejercicio 10\n",
    "- Imprimir el índice y valor de cada elemento de la **lista = [-5, -4, -3, -2, -1, 0, 1, 2, 3, 4, 5]** utilizando un bucle **for**."
   ]
  },
  {
   "cell_type": "code",
   "execution_count": null,
   "id": "db8dad4b",
   "metadata": {},
   "outputs": [],
   "source": []
  },
  {
   "cell_type": "code",
   "execution_count": null,
   "id": "3b6f62e5",
   "metadata": {},
   "outputs": [],
   "source": []
  },
  {
   "cell_type": "code",
   "execution_count": null,
   "id": "70bbdb9a",
   "metadata": {},
   "outputs": [],
   "source": []
  },
  {
   "cell_type": "markdown",
   "id": "eb2b14d4",
   "metadata": {},
   "source": [
    "### Ejercicio 11\n",
    "- Crea un bucle **while** donde le pregunte al usuario un número y si ese número es impar el programa se detiene."
   ]
  },
  {
   "cell_type": "code",
   "execution_count": null,
   "id": "1f61356a",
   "metadata": {},
   "outputs": [],
   "source": []
  },
  {
   "cell_type": "code",
   "execution_count": null,
   "id": "76f2453d",
   "metadata": {},
   "outputs": [],
   "source": []
  },
  {
   "cell_type": "code",
   "execution_count": null,
   "id": "63488bdc",
   "metadata": {},
   "outputs": [],
   "source": []
  },
  {
   "cell_type": "markdown",
   "id": "506b594c",
   "metadata": {},
   "source": [
    "### Ejercicio 12\n",
    "- Pide al usuario una frase.\n",
    "- Has un bucle que recorra la frase y que imprima las letras de la frase y cuantas veces aparece."
   ]
  },
  {
   "cell_type": "code",
   "execution_count": null,
   "id": "6d5eed1e",
   "metadata": {},
   "outputs": [],
   "source": []
  },
  {
   "cell_type": "code",
   "execution_count": null,
   "id": "7589273f",
   "metadata": {},
   "outputs": [],
   "source": []
  },
  {
   "cell_type": "code",
   "execution_count": null,
   "id": "c80fb589",
   "metadata": {},
   "outputs": [],
   "source": []
  },
  {
   "cell_type": "code",
   "execution_count": null,
   "id": "ed860fac-20fd-4ac9-a1a5-cb60a7d96bc5",
   "metadata": {},
   "outputs": [],
   "source": [
    "##############################################################################################################################"
   ]
  }
 ],
 "metadata": {
  "kernelspec": {
   "display_name": "Python 3 (ipykernel)",
   "language": "python",
   "name": "python3"
  },
  "language_info": {
   "codemirror_mode": {
    "name": "ipython",
    "version": 3
   },
   "file_extension": ".py",
   "mimetype": "text/x-python",
   "name": "python",
   "nbconvert_exporter": "python",
   "pygments_lexer": "ipython3",
   "version": "3.11.5"
  }
 },
 "nbformat": 4,
 "nbformat_minor": 5
}
