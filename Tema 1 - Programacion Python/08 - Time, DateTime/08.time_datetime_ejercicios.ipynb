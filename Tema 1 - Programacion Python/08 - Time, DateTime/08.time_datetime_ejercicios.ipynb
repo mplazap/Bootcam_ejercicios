{
 "cells": [
  {
   "cell_type": "markdown",
   "id": "81cc3390",
   "metadata": {},
   "source": [
    "## Ejercicios - datetime"
   ]
  },
  {
   "cell_type": "code",
   "execution_count": null,
   "id": "570de22e",
   "metadata": {},
   "outputs": [],
   "source": [
    "import time\n",
    "import datetime"
   ]
  },
  {
   "cell_type": "markdown",
   "id": "f9db0e96",
   "metadata": {},
   "source": [
    "### Ejercicio 1\n",
    "- Determina si el año actual es bisiesto, imprime el resultado por pantalla. Usa la libreria **datetime**.+"
   ]
  },
  {
   "cell_type": "code",
   "execution_count": null,
   "id": "7f8fbd2e",
   "metadata": {},
   "outputs": [],
   "source": []
  },
  {
   "cell_type": "code",
   "execution_count": null,
   "id": "586752c5",
   "metadata": {},
   "outputs": [],
   "source": []
  },
  {
   "cell_type": "code",
   "execution_count": null,
   "id": "8f7131c0",
   "metadata": {},
   "outputs": [],
   "source": []
  },
  {
   "cell_type": "markdown",
   "id": "9ec19d61",
   "metadata": {},
   "source": [
    "### Ejercicio 2\n",
    "- Utiliza el año 2000 y el año 2100 para verificar que el código anterior funciona correctamente.\n",
    "- Nota: El año 2000 fue bisiesto y el año 2100 no lo será."
   ]
  },
  {
   "cell_type": "code",
   "execution_count": null,
   "id": "6d7ac90e",
   "metadata": {},
   "outputs": [],
   "source": []
  },
  {
   "cell_type": "code",
   "execution_count": null,
   "id": "ae63e7cd",
   "metadata": {},
   "outputs": [],
   "source": []
  },
  {
   "cell_type": "code",
   "execution_count": null,
   "id": "516fe1fc",
   "metadata": {},
   "outputs": [],
   "source": []
  },
  {
   "cell_type": "markdown",
   "id": "30aaf8f9",
   "metadata": {},
   "source": [
    "### Ejercicio 3\n",
    "- Convierte la fecha _**'Oct 16 2019 2:43PM'**_ en un objecto de tipo **datetime**.\n",
    "- Nota: Convertir una fecha string a una fecha tipo datetime."
   ]
  },
  {
   "cell_type": "code",
   "execution_count": null,
   "id": "5a5aee2e",
   "metadata": {},
   "outputs": [],
   "source": []
  },
  {
   "cell_type": "code",
   "execution_count": null,
   "id": "3473f225",
   "metadata": {},
   "outputs": [],
   "source": []
  },
  {
   "cell_type": "code",
   "execution_count": null,
   "id": "e86e8008",
   "metadata": {},
   "outputs": [],
   "source": []
  },
  {
   "cell_type": "markdown",
   "id": "dac7380d",
   "metadata": {},
   "source": [
    "### Ejercicio 4\n",
    "- Muestra la hora actual."
   ]
  },
  {
   "cell_type": "code",
   "execution_count": null,
   "id": "1d0c0aea",
   "metadata": {},
   "outputs": [],
   "source": []
  },
  {
   "cell_type": "code",
   "execution_count": null,
   "id": "7da1f286",
   "metadata": {},
   "outputs": [],
   "source": []
  },
  {
   "cell_type": "code",
   "execution_count": null,
   "id": "0faf7615",
   "metadata": {},
   "outputs": [],
   "source": []
  },
  {
   "cell_type": "markdown",
   "id": "4888b068",
   "metadata": {},
   "source": [
    "### Ejercicio 5\n",
    "\n",
    "- Utilizando la fecha y hora actual imprime la siguiente información:\n",
    "\n",
    "1. Fecha y hora actual\n",
    "2. Año actual\n",
    "3. Mes del año\n",
    "4. Numero de la semana del año\n",
    "5. Numero del dia de la semana\n",
    "6. Dia del año\n",
    "7. Dia del mes\n",
    "8. Dia de la semana"
   ]
  },
  {
   "cell_type": "code",
   "execution_count": null,
   "id": "2be25c27",
   "metadata": {},
   "outputs": [],
   "source": []
  },
  {
   "cell_type": "code",
   "execution_count": null,
   "id": "f96e8eb6",
   "metadata": {},
   "outputs": [],
   "source": []
  },
  {
   "cell_type": "code",
   "execution_count": null,
   "id": "4f5fe2b2",
   "metadata": {},
   "outputs": [],
   "source": []
  },
  {
   "cell_type": "markdown",
   "id": "2b6c624f",
   "metadata": {},
   "source": [
    "### Ejercicio 6\n",
    "\n",
    "- Escribe un código que convierta la siguiente cadena que se encuentra en formato timestamp unix **\"1284105682\"** a un formato que se pueda leer."
   ]
  },
  {
   "cell_type": "code",
   "execution_count": null,
   "id": "5eaab7d8",
   "metadata": {},
   "outputs": [],
   "source": []
  },
  {
   "cell_type": "code",
   "execution_count": null,
   "id": "6580497b",
   "metadata": {},
   "outputs": [],
   "source": []
  },
  {
   "cell_type": "code",
   "execution_count": null,
   "id": "b863e2d9",
   "metadata": {},
   "outputs": [],
   "source": []
  },
  {
   "cell_type": "markdown",
   "id": "9fa710a8",
   "metadata": {},
   "source": [
    "### Ejercicio 7\n",
    "- Escribe un programa que imprima la fecha de 5 días atras."
   ]
  },
  {
   "cell_type": "code",
   "execution_count": null,
   "id": "c2508c37",
   "metadata": {},
   "outputs": [],
   "source": []
  },
  {
   "cell_type": "code",
   "execution_count": null,
   "id": "e95406c6",
   "metadata": {},
   "outputs": [],
   "source": []
  },
  {
   "cell_type": "code",
   "execution_count": null,
   "id": "e4161e92",
   "metadata": {},
   "outputs": [],
   "source": []
  },
  {
   "cell_type": "markdown",
   "id": "ea3d4997",
   "metadata": {},
   "source": [
    "### Ejercicio 8\n",
    "- Utiliza un bucle **for** para imprimir los proximos 5 dias."
   ]
  },
  {
   "cell_type": "code",
   "execution_count": null,
   "id": "311bfc3d",
   "metadata": {},
   "outputs": [],
   "source": []
  },
  {
   "cell_type": "code",
   "execution_count": null,
   "id": "891c5751",
   "metadata": {},
   "outputs": [],
   "source": []
  },
  {
   "cell_type": "code",
   "execution_count": null,
   "id": "107310ee",
   "metadata": {},
   "outputs": [],
   "source": []
  },
  {
   "cell_type": "markdown",
   "id": "9f2f692d",
   "metadata": {},
   "source": [
    "### Ejercicio 9\n",
    "- Escribe un código que agregue 5 segundos a la hora actual."
   ]
  },
  {
   "cell_type": "code",
   "execution_count": null,
   "id": "6299f143",
   "metadata": {},
   "outputs": [],
   "source": []
  },
  {
   "cell_type": "code",
   "execution_count": null,
   "id": "828c806b",
   "metadata": {},
   "outputs": [],
   "source": []
  },
  {
   "cell_type": "code",
   "execution_count": null,
   "id": "30269f13",
   "metadata": {},
   "outputs": [],
   "source": []
  },
  {
   "cell_type": "markdown",
   "id": "e6fa33cc",
   "metadata": {},
   "source": [
    "### Ejercicio 10\n",
    "\n",
    "- Escribe un código que muestre la fecha de ayer, hoy y mañana."
   ]
  },
  {
   "cell_type": "code",
   "execution_count": null,
   "id": "a1b81653",
   "metadata": {},
   "outputs": [],
   "source": []
  },
  {
   "cell_type": "code",
   "execution_count": null,
   "id": "01cf4839",
   "metadata": {},
   "outputs": [],
   "source": []
  },
  {
   "cell_type": "code",
   "execution_count": null,
   "id": "5c397c62",
   "metadata": {},
   "outputs": [],
   "source": []
  },
  {
   "cell_type": "markdown",
   "id": "bf3cb171",
   "metadata": {},
   "source": [
    "### Ejercicio 11\n",
    "- Escribe un código que convierta una fecha a unix timestamp."
   ]
  },
  {
   "cell_type": "code",
   "execution_count": null,
   "id": "87e59068",
   "metadata": {},
   "outputs": [],
   "source": []
  },
  {
   "cell_type": "code",
   "execution_count": null,
   "id": "a07a78aa",
   "metadata": {},
   "outputs": [],
   "source": []
  },
  {
   "cell_type": "code",
   "execution_count": null,
   "id": "e88b97c1",
   "metadata": {},
   "outputs": [],
   "source": []
  },
  {
   "cell_type": "markdown",
   "id": "44994dbb",
   "metadata": {},
   "source": [
    "### Ejercicio 12\n",
    "\n",
    "- Escribe un código que genere la fecha y hora actual del tipo **datetime** como **string**. (Dale el formato que quieras.)"
   ]
  },
  {
   "cell_type": "code",
   "execution_count": null,
   "id": "c7e38f97",
   "metadata": {},
   "outputs": [],
   "source": []
  },
  {
   "cell_type": "code",
   "execution_count": null,
   "id": "d4fa4a49",
   "metadata": {},
   "outputs": [],
   "source": []
  },
  {
   "cell_type": "code",
   "execution_count": null,
   "id": "cba05354",
   "metadata": {},
   "outputs": [],
   "source": []
  },
  {
   "cell_type": "markdown",
   "id": "ed6e7b81",
   "metadata": {},
   "source": [
    "### Ejercicio 13\n",
    "\n",
    "- Calcula la cantidad de segundos que han pasado desde el **01-Jan-2000**."
   ]
  },
  {
   "cell_type": "code",
   "execution_count": null,
   "id": "66ebcc7c",
   "metadata": {},
   "outputs": [],
   "source": []
  },
  {
   "cell_type": "code",
   "execution_count": null,
   "id": "462a0e80",
   "metadata": {},
   "outputs": [],
   "source": []
  },
  {
   "cell_type": "code",
   "execution_count": null,
   "id": "862141bf",
   "metadata": {},
   "outputs": [],
   "source": []
  },
  {
   "cell_type": "code",
   "execution_count": null,
   "id": "9defe1ce",
   "metadata": {},
   "outputs": [],
   "source": [
    "##############################################################################################################################"
   ]
  }
 ],
 "metadata": {
  "kernelspec": {
   "display_name": "Python 3 (ipykernel)",
   "language": "python",
   "name": "python3"
  },
  "language_info": {
   "codemirror_mode": {
    "name": "ipython",
    "version": 3
   },
   "file_extension": ".py",
   "mimetype": "text/x-python",
   "name": "python",
   "nbconvert_exporter": "python",
   "pygments_lexer": "ipython3",
   "version": "3.11.5"
  }
 },
 "nbformat": 4,
 "nbformat_minor": 5
}
