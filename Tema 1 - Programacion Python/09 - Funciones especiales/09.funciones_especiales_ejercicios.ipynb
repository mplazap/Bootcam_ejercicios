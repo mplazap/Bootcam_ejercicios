{
 "cells": [
  {
   "cell_type": "markdown",
   "id": "de36e953",
   "metadata": {},
   "source": [
    "## Ejercicios - Funciones Especiales"
   ]
  },
  {
   "cell_type": "code",
   "execution_count": null,
   "id": "a05cc9d4",
   "metadata": {},
   "outputs": [],
   "source": [
    "import random"
   ]
  },
  {
   "cell_type": "markdown",
   "id": "14724448",
   "metadata": {
    "tags": []
   },
   "source": [
    "### Operador Ternario"
   ]
  },
  {
   "cell_type": "markdown",
   "id": "15bb5ca3",
   "metadata": {},
   "source": [
    "### Ejercicio 1:\n",
    "- Transforma el siguiente condicional usando el operador ternario:"
   ]
  },
  {
   "cell_type": "code",
   "execution_count": null,
   "id": "9be8af0f",
   "metadata": {},
   "outputs": [],
   "source": [
    "valor = random.randint(1000, 2000)\n",
    "\n",
    "if valor % 2 == 0:\n",
    "    \n",
    "    x = \"par\"\n",
    "    \n",
    "else:\n",
    "    \n",
    "    x = \"impar\"\n",
    "    \n",
    "print(x)"
   ]
  },
  {
   "cell_type": "code",
   "execution_count": null,
   "id": "6a84011a",
   "metadata": {},
   "outputs": [],
   "source": []
  },
  {
   "cell_type": "code",
   "execution_count": null,
   "id": "1c4e5f8c",
   "metadata": {},
   "outputs": [],
   "source": []
  },
  {
   "cell_type": "markdown",
   "id": "712de00b",
   "metadata": {},
   "source": [
    "### Ejercicio 2:\n",
    "- Transforma el siguiente condicional usando el operador ternario:"
   ]
  },
  {
   "cell_type": "code",
   "execution_count": null,
   "id": "0d642085",
   "metadata": {},
   "outputs": [],
   "source": [
    "a = random.random()\n",
    "b = random.random()\n",
    "\n",
    "if a > b:\n",
    "    x = a\n",
    "else:\n",
    "    x = b\n",
    "print(\"a:\", a)\n",
    "print(\"b:\", b)\n",
    "print(\"x:\", x)"
   ]
  },
  {
   "cell_type": "code",
   "execution_count": null,
   "id": "95405c14",
   "metadata": {},
   "outputs": [],
   "source": []
  },
  {
   "cell_type": "code",
   "execution_count": null,
   "id": "9c8bedc2",
   "metadata": {},
   "outputs": [],
   "source": []
  },
  {
   "cell_type": "markdown",
   "id": "6a223d59",
   "metadata": {},
   "source": [
    "### Ejercicio 3:\n",
    "- Transforma el siguiente condicional usando el operador ternario:"
   ]
  },
  {
   "cell_type": "code",
   "execution_count": null,
   "id": "72b57020",
   "metadata": {},
   "outputs": [],
   "source": [
    "string = input(\"Ingresa una frase con palabras separadas por espacios: \")\n",
    "\n",
    "if len(string.split()) > 5:\n",
    "    x = len(string.split())\n",
    "    \n",
    "else:\n",
    "    x = 0\n",
    "    \n",
    "print(x)"
   ]
  },
  {
   "cell_type": "code",
   "execution_count": null,
   "id": "2500650b",
   "metadata": {},
   "outputs": [],
   "source": []
  },
  {
   "cell_type": "code",
   "execution_count": null,
   "id": "3dcb26e6",
   "metadata": {},
   "outputs": [],
   "source": []
  },
  {
   "cell_type": "code",
   "execution_count": null,
   "id": "ecf45d2d",
   "metadata": {},
   "outputs": [],
   "source": []
  },
  {
   "cell_type": "markdown",
   "id": "7047f230",
   "metadata": {},
   "source": [
    "### Ejercicio 4:\n",
    "- Transforma el siguiente condicional usando el operador ternario:"
   ]
  },
  {
   "cell_type": "code",
   "execution_count": null,
   "id": "411b9767",
   "metadata": {},
   "outputs": [],
   "source": [
    "numero = 5\n",
    "\n",
    "if type(numero) == int:\n",
    "    x = numero**2\n",
    "    \n",
    "else:\n",
    "    x = numero\n",
    "    \n",
    "print(x)"
   ]
  },
  {
   "cell_type": "code",
   "execution_count": null,
   "id": "620c3c31",
   "metadata": {},
   "outputs": [],
   "source": []
  },
  {
   "cell_type": "code",
   "execution_count": null,
   "id": "b31e4e41",
   "metadata": {},
   "outputs": [],
   "source": []
  },
  {
   "cell_type": "code",
   "execution_count": null,
   "id": "465ac4f8",
   "metadata": {},
   "outputs": [],
   "source": []
  },
  {
   "cell_type": "markdown",
   "id": "89ef4b85",
   "metadata": {},
   "source": [
    "### List Comprehensions"
   ]
  },
  {
   "cell_type": "markdown",
   "id": "933f5b6f",
   "metadata": {},
   "source": [
    "### Ejercicio 5:\n",
    "- Inicializa una lista vacia.\n",
    "- Llena la lista 15 números enteros aleatorios entre 0 y 10 utilizando la función: **random.randint()** y un bucle **for**.\n",
    "- Después repite el ejercicio utilizando **list comprehension**."
   ]
  },
  {
   "cell_type": "code",
   "execution_count": null,
   "id": "79eb56a7",
   "metadata": {},
   "outputs": [],
   "source": [
    "lista_vacia = []\n",
    "\n",
    "for i in range(15):\n",
    "    lista_vacia.append(random.randint(0, 10))\n",
    "    \n",
    "    \n",
    "lista_vacia"
   ]
  },
  {
   "cell_type": "code",
   "execution_count": null,
   "id": "0bdefdf3",
   "metadata": {},
   "outputs": [],
   "source": []
  },
  {
   "cell_type": "code",
   "execution_count": null,
   "id": "2d6912f1",
   "metadata": {},
   "outputs": [],
   "source": []
  },
  {
   "cell_type": "markdown",
   "id": "59a80178",
   "metadata": {},
   "source": [
    "### Ejercicio 6:\n",
    "- Inicializa una lista vacia.\n",
    "- Llena la lista 15 números enteros aleatorios entre 1 y 100 utilizando la función: **random.randint()** y un bucle **for**.\n",
    "- Después inicializa otra lista vacia y llenala con los números impares de la primera lista.\n",
    "\n",
    "\n",
    "\n",
    "- Repite este proceso usando **list comprehension**.\n",
    "    - Tendras que hacer dos **list comprehensions**, uno para crear la lista con los 15 elementos y el segundo para filtrar."
   ]
  },
  {
   "cell_type": "code",
   "execution_count": null,
   "id": "476d2a8b",
   "metadata": {},
   "outputs": [],
   "source": []
  },
  {
   "cell_type": "code",
   "execution_count": null,
   "id": "4f7c86e8",
   "metadata": {},
   "outputs": [],
   "source": [
    "\n",
    "print(lista_vacia_2)"
   ]
  },
  {
   "cell_type": "code",
   "execution_count": null,
   "id": "723800e5",
   "metadata": {},
   "outputs": [],
   "source": []
  },
  {
   "cell_type": "markdown",
   "id": "a8e42b5b",
   "metadata": {},
   "source": [
    "### Ejercicio 6:\n",
    "- A partir de la siguiente **lista = [\"1\",\"2\",\"3\",\"4\",\"5\",\"6\"]**, usando bucles **for**, obten el siguiente resultado **lista = [11, 22, 33, 44, 55, 66]**.\n",
    "    - **Nota:** los elementos de la primera lista son **strings** y los elementos de la segunda lista son **enteros**.\n",
    "    \n",
    "- Repite el ejercicio pero usando **list comprehensions**."
   ]
  },
  {
   "cell_type": "code",
   "execution_count": null,
   "id": "61a55d17",
   "metadata": {},
   "outputs": [],
   "source": []
  },
  {
   "cell_type": "code",
   "execution_count": null,
   "id": "0aaf6d27",
   "metadata": {},
   "outputs": [],
   "source": []
  },
  {
   "cell_type": "code",
   "execution_count": null,
   "id": "36aa487d",
   "metadata": {},
   "outputs": [],
   "source": []
  },
  {
   "cell_type": "markdown",
   "id": "184a56f2",
   "metadata": {},
   "source": [
    "### Ejercicio 7:\n",
    "- Inicializa una lista vacia y llenala de 20 números enteros aleatorios del 1 al 100 (llamala **lista_1**).\n",
    "- Inicializa otra lista vacia y recorriendo la primera lista, llenala con 0's o 1's si los elementos son pares o impares, respectivamente (llamala **lista_2**).\n",
    "    - Ejemplo: \n",
    "        - input: **lista_1 = [58, 42, 47, 26, 45, 93, 24, 29, 16, 92]**\n",
    "        - output: **lista_2 = [0, 0, 1, 0, 1, 1, 0, 1, 0, 0]**\n",
    "        \n",
    "        \n",
    "- Repite el mismo ejercicio usando **list comprehension**."
   ]
  },
  {
   "cell_type": "code",
   "execution_count": null,
   "id": "af5a77de",
   "metadata": {},
   "outputs": [],
   "source": []
  },
  {
   "cell_type": "code",
   "execution_count": null,
   "id": "e16f3ba5",
   "metadata": {},
   "outputs": [],
   "source": []
  },
  {
   "cell_type": "code",
   "execution_count": null,
   "id": "edcc6ae6",
   "metadata": {},
   "outputs": [],
   "source": []
  },
  {
   "cell_type": "markdown",
   "id": "aca8f0ef",
   "metadata": {},
   "source": [
    "### Dictionaries Comprehensions"
   ]
  },
  {
   "cell_type": "markdown",
   "id": "aa503199",
   "metadata": {},
   "source": [
    "### Ejercicio 8:\n",
    "- Inicializa un diccionario vacio (llamado **dict_1**).\n",
    "- Llenalo utilizando la siguiente formula: **i : int((i\\*random.random())\\*\\*-1)** donde **i** son los números del 1 hasta el 10. Hazlo usando un bucle **for**.\n",
    "\n",
    "\n",
    "\n",
    "- Repite este ejercicio pero usando **dictionaries comprehensions**."
   ]
  },
  {
   "cell_type": "code",
   "execution_count": null,
   "id": "28390c9a",
   "metadata": {},
   "outputs": [],
   "source": []
  },
  {
   "cell_type": "code",
   "execution_count": null,
   "id": "936eab90",
   "metadata": {},
   "outputs": [],
   "source": []
  },
  {
   "cell_type": "code",
   "execution_count": null,
   "id": "217100ca",
   "metadata": {},
   "outputs": [],
   "source": []
  },
  {
   "cell_type": "markdown",
   "id": "6d2182b0",
   "metadata": {},
   "source": [
    "### Ejercicio 9:\n",
    "- Inicializa un diccionario vacio (llamado **dict_1**).\n",
    "- Llenalo utilizando los elementos de **lista_1** y los elementos de **lista_2** de forma que los elementos de **lista_1** sean las llaves y los elementos de **lista_2** sean los valores.\n",
    "\n",
    "\n",
    "- Repite este ejercicio pero usando **dictionaries comprehensions**."
   ]
  },
  {
   "cell_type": "code",
   "execution_count": null,
   "id": "b563777f",
   "metadata": {},
   "outputs": [],
   "source": []
  },
  {
   "cell_type": "code",
   "execution_count": null,
   "id": "84b8d749",
   "metadata": {},
   "outputs": [],
   "source": []
  },
  {
   "cell_type": "code",
   "execution_count": null,
   "id": "d393f1f3",
   "metadata": {},
   "outputs": [],
   "source": []
  },
  {
   "cell_type": "code",
   "execution_count": null,
   "id": "a1ca3b38",
   "metadata": {},
   "outputs": [],
   "source": [
    "##############################################################################################################################"
   ]
  }
 ],
 "metadata": {
  "kernelspec": {
   "display_name": "Python 3 (ipykernel)",
   "language": "python",
   "name": "python3"
  },
  "language_info": {
   "codemirror_mode": {
    "name": "ipython",
    "version": 3
   },
   "file_extension": ".py",
   "mimetype": "text/x-python",
   "name": "python",
   "nbconvert_exporter": "python",
   "pygments_lexer": "ipython3",
   "version": "3.11.5"
  }
 },
 "nbformat": 4,
 "nbformat_minor": 5
}
