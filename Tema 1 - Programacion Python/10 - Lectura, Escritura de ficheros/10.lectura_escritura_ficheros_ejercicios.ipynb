{
 "cells": [
  {
   "cell_type": "markdown",
   "id": "4a0bea5a",
   "metadata": {},
   "source": [
    "## Lectura y Escritura de ficheros Ejercicios"
   ]
  },
  {
   "cell_type": "markdown",
   "id": "84a0c448",
   "metadata": {},
   "source": [
    "### Ejercicio 1:\n",
    "- Pide al usuario por pantalla un número entero.\n",
    "- Crear un fichero llamado _**\"ejercicio_1.txt\"**_ y llenalo con la tabla de multiplicar de ese número.\n",
    "\n",
    "**Output**:\n",
    "\n",
    "**1 X 0 = 0**<br>\n",
    "**1 X 1 = 1**<br>\n",
    "**1 X 2 = 2**<br>\n",
    "**1 X 3 = 3**<br>\n",
    "**1 X 4 = 4**<br>\n",
    "**1 X 5 = 5**<br>\n",
    "**1 X 6 = 6**<br>\n",
    "**1 X 7 = 7**<br>\n",
    "**1 X 8 = 8**<br>\n",
    "**1 X 9 = 9**<br>"
   ]
  },
  {
   "cell_type": "code",
   "execution_count": null,
   "id": "39b9884e",
   "metadata": {},
   "outputs": [],
   "source": []
  },
  {
   "cell_type": "code",
   "execution_count": null,
   "id": "40c92fc9",
   "metadata": {},
   "outputs": [],
   "source": []
  },
  {
   "cell_type": "code",
   "execution_count": null,
   "id": "fef78603",
   "metadata": {},
   "outputs": [],
   "source": []
  },
  {
   "cell_type": "markdown",
   "id": "33537aec",
   "metadata": {},
   "source": [
    "### Ejercicio 2:\n",
    "- Lee el archivo _**\"ejercicio_2.txt\"**_ y guarda su contenido en una variable.\n",
    "- Muestra cuantas palabras hay en total y su frecuencia."
   ]
  },
  {
   "cell_type": "code",
   "execution_count": null,
   "id": "004625e1",
   "metadata": {},
   "outputs": [],
   "source": []
  },
  {
   "cell_type": "code",
   "execution_count": null,
   "id": "92fb0817",
   "metadata": {},
   "outputs": [],
   "source": []
  },
  {
   "cell_type": "code",
   "execution_count": null,
   "id": "777a3541",
   "metadata": {},
   "outputs": [],
   "source": []
  },
  {
   "cell_type": "markdown",
   "id": "1019cac0",
   "metadata": {},
   "source": [
    "### Ejercicio 3:\n",
    "- Define una función que se llame _**func_datos**_ que tome como parametro el nombre de un archivo y que pida por pantalla al usuario:\n",
    "    1. **Nombre**\n",
    "    2. **Un número entero**\n",
    "    3. **Una palabra**\n",
    "    4. **Nombre de Ciudad**\n",
    "    5. Escribe el código para escribir esos datos en una sola linea en el archivo (**Sin sobreescribir el archivo**).\n",
    "    6. No debe retornar nada.\n",
    "- LLama al archivo: _**\"ejercicio_3.txt\"**_.\n",
    "- Ejecuta esa función 5 veces. Asegurate de que el código funciona correctamente."
   ]
  },
  {
   "cell_type": "code",
   "execution_count": null,
   "id": "b0e0a862",
   "metadata": {},
   "outputs": [],
   "source": []
  },
  {
   "cell_type": "code",
   "execution_count": null,
   "id": "eb12038e",
   "metadata": {},
   "outputs": [],
   "source": []
  },
  {
   "cell_type": "code",
   "execution_count": null,
   "id": "226f27f9",
   "metadata": {},
   "outputs": [],
   "source": []
  },
  {
   "cell_type": "markdown",
   "id": "25f2034e",
   "metadata": {},
   "source": [
    "### Ejercicio 4:\n",
    "- Lee el archivo binario **\"datos.pkl\"** (recuerda importar la libreria).\n",
    "- Guarda ese objeto en la variable **datos**."
   ]
  },
  {
   "cell_type": "code",
   "execution_count": null,
   "id": "39822a32",
   "metadata": {},
   "outputs": [],
   "source": []
  },
  {
   "cell_type": "code",
   "execution_count": null,
   "id": "a975a6c7",
   "metadata": {},
   "outputs": [],
   "source": []
  },
  {
   "cell_type": "code",
   "execution_count": null,
   "id": "117b51d4",
   "metadata": {},
   "outputs": [],
   "source": []
  },
  {
   "cell_type": "markdown",
   "id": "53b31ff3",
   "metadata": {},
   "source": [
    "### Ejercicio 5:\n",
    "- Usando el diccionario _**datos**_ imprime el nombre de los elementos que tengan **\"V1\"** en su nombre."
   ]
  },
  {
   "cell_type": "code",
   "execution_count": null,
   "id": "5594d127",
   "metadata": {},
   "outputs": [],
   "source": []
  },
  {
   "cell_type": "code",
   "execution_count": null,
   "id": "180f3121",
   "metadata": {},
   "outputs": [],
   "source": []
  },
  {
   "cell_type": "code",
   "execution_count": null,
   "id": "15e148fc",
   "metadata": {},
   "outputs": [],
   "source": []
  },
  {
   "cell_type": "markdown",
   "id": "04dae01e",
   "metadata": {},
   "source": [
    "### Ejercicio 6:\n",
    "- Usando la variable _**datos**_ muestra los _**id**_ donde _**tipo**_ sea _**entrada**_."
   ]
  },
  {
   "cell_type": "code",
   "execution_count": null,
   "id": "de5d1eb1",
   "metadata": {
    "scrolled": true
   },
   "outputs": [],
   "source": []
  },
  {
   "cell_type": "code",
   "execution_count": null,
   "id": "44910c33",
   "metadata": {},
   "outputs": [],
   "source": []
  },
  {
   "cell_type": "code",
   "execution_count": null,
   "id": "5ea3c2ca",
   "metadata": {},
   "outputs": [],
   "source": []
  },
  {
   "cell_type": "markdown",
   "id": "af28191e",
   "metadata": {},
   "source": [
    "### Ejercicio 7:\n",
    "- Usando la variable **datos** muestra los **id** que sean del año **2016**."
   ]
  },
  {
   "cell_type": "code",
   "execution_count": null,
   "id": "b967a92e",
   "metadata": {},
   "outputs": [],
   "source": []
  },
  {
   "cell_type": "code",
   "execution_count": null,
   "id": "d163d387",
   "metadata": {},
   "outputs": [],
   "source": []
  },
  {
   "cell_type": "code",
   "execution_count": null,
   "id": "394f8a71-4fe6-4782-8542-1f8cbf261cd6",
   "metadata": {},
   "outputs": [],
   "source": []
  },
  {
   "cell_type": "code",
   "execution_count": null,
   "id": "7af75f3a-bf10-4434-8189-8ef76704921c",
   "metadata": {
    "tags": []
   },
   "outputs": [],
   "source": [
    "##############################################################################################################################"
   ]
  }
 ],
 "metadata": {
  "kernelspec": {
   "display_name": "Python 3 (ipykernel)",
   "language": "python",
   "name": "python3"
  },
  "language_info": {
   "codemirror_mode": {
    "name": "ipython",
    "version": 3
   },
   "file_extension": ".py",
   "mimetype": "text/x-python",
   "name": "python",
   "nbconvert_exporter": "python",
   "pygments_lexer": "ipython3",
   "version": "3.11.5"
  }
 },
 "nbformat": 4,
 "nbformat_minor": 5
}
