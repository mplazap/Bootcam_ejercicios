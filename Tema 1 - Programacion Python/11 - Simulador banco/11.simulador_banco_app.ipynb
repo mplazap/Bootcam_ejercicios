{
 "cells": [
  {
   "cell_type": "markdown",
   "id": "800dbe00",
   "metadata": {},
   "source": [
    "## Ejercicio - Simulador de App Banco\n",
    "\n",
    "**Vamos a intentar simular una entidad bancaria que lleve tu registro bancario:**\n",
    "\n",
    "1. Crear una variable llamada _**balance**_ e inicializala con un **número flotante aleatorio entre 500 y 1000**. Luego una variable con tu nombre llamada _**nombre**_.\n",
    "\n",
    "========================================================================================================================\n",
    "\n",
    "2. **Inicializa 3 listas vacias** para: Historial de Balance, Ingresos, Salidas. (llamalas _**historial_balance**_, _**ingresos**_ y _**salidas**_ respectivamente.)\n",
    "\n",
    "========================================================================================================================\n",
    "\n",
    "3. Define una función que se llame _**mostrar_balance**_ que tome como parametro el balance actual (_**balance**_) y que haga lo siguiente:\n",
    "    - Imprima por pantalla el siguiente mensaje: **\"Hola _nombre_! Tu balance actual es _balance_.\"**\n",
    "        - **Ejemplo**: **Hola _XXXXXX_! Tu balance actual es 1000.**\n",
    "        \n",
    "    - Luego que verifique si el balance es positivo o negativo:\n",
    "        - En caso de ser negativo que imprima el siguiente mensaje: _**Balance negativo.**_\n",
    "    - No debe retornar nada.\n",
    "    \n",
    "========================================================================================================================\n",
    "\n",
    "4. Define una función que se llame _**ingresar_dinero**_ que tome como parametro el balance actual (_**balance**_) y que haga lo siguiente:\n",
    "    - Pida al usuario por pantalla un número para ingresar al banco (este número debe ser un flotante y positivo), llama a esta variable _**ing_banco**_.\n",
    "    \n",
    "    - Crea una lista que contenga la variable _**ing_banco**_ y el string _**\"ingreso\"**_, llama a esta lista _**ing_info**_.\n",
    "        - **Ejemplo: [ing_banco, \"ingreso\"]**\n",
    "        - **Nota**: el string siempre sera _**\"ingreso\"**_.\n",
    "    \n",
    "    - Agrege esa lista (_**ing_info**_) a la lista _**ingresos**_.\n",
    "    \n",
    "    - Crea una variable que se llame _**nuevo_balance**_ que sea la suma de _**balance**_ y _**ing_banco**_.\n",
    "    \n",
    "    - Agrege el número _**nuevo_balance**_ a la lista _**historial_balance**_.\n",
    "    \n",
    "    - Utilice la función _**mostrar_balance()**_ usando como parametro la variable _**nuevo_balance**_.\n",
    "    \n",
    "    - Retorna la variable _**nuevo_balance**_.\n",
    "\n",
    "Al momento de usar esta función ejecuta la siguiente linea: _**balance = ingresar_dinero(balance)**_.\n",
    "    \n",
    "========================================================================================================================\n",
    "\n",
    "5. Define una función que se llame _**pagar_servicio**_ que tome como parametro el balance actual (_**balance**_) y que haga lo siguiente:\n",
    "    - Pida al usuario por pantalla el nombre del servicio que va a pagar (esta variable debe ser una cadena), llama a esta variable _**nombre_servicio**_.\n",
    "    \n",
    "    - Pida al usuario el valor que se va a pagar por el servicio (esta debe ser flotante y positivo), llama a esta variable _**coste_servicio**_.\n",
    "    \n",
    "    - Crea una lista que contenga la la variable _**coste_servicio**_ y el string _**nombre_servicio**_, llama a esta lista _**servicio_info**_.\n",
    "        - **Ejemplo: [coste_servicio, nombre_servicio]** \n",
    "    \n",
    "    - Agrege esa lista (_**servicio_info**_) a la lista _**salidas**_.\n",
    "    \n",
    "    - Crea una variable que se llame _**nuevo_balance**_ que sea la resta de _**balance**_ y _**coste_servicio**_.\n",
    "    \n",
    "    - Agrege el número _**nuevo_balance**_ a la lista _**historial_balance**_.\n",
    "    \n",
    "    - Utilice la función _**mostrar_balance()**_ usando como parametro la variable _**nuevo_balance**_.\n",
    "    \n",
    "    - Retorna la variable _**nuevo_balance**_.\n",
    "    \n",
    "Al momento de usar esta función ejecuta la siguiente linea: _**balance = pagar_servicio(balance)**_.\n",
    "    \n",
    "========================================================================================================================\n",
    "\n",
    "6. Define una función que se llame _**mostrar_historial_balance**_ que tome como parametro de entrada la lista _**historial_balance**_ y que haga lo siguiente:\n",
    "    - Imprima cada elemento de la lista _**historial_balance**_ utilizando un bucle _**for**_ de la siguiente forma:<br>\n",
    "        **INDICE OPERACION: _indice_operacion_, BALANCE: _balance_ €**.\n",
    "        - **Ejemplo: INDICE OPERACION: 0, BALANCE: 500€**\n",
    "        \n",
    "    - Luego que imprima por pantalla el **total de operaciones** y el **balance actual**.\n",
    "        - **Ejemplo: TOTAL DE OPERACIONES: 100, BALANCE ACTUAL: 1000€**\n",
    "    \n",
    "    - No debe retornar nada.\n",
    "    \n",
    "======================================================================================================================== \n",
    " \n",
    "7. Define una función que se llame _**dicc_balance**_ que tome como parametro de entrada la lista _**historial_balance**_ y que haga lo siguiente:\n",
    "    - Inicialice un diccionario vacio llamado _**balances**_.\n",
    "    \n",
    "    - Utilzando un bucle _**for**_ llenar el diccionario _**balances**_ usando la lista _**historial_balance**_, usando como **llave el indice la operación** y como **valor el balance de esa operacion**.\n",
    "    \n",
    "    - Esta función debe retornar el diccionario _**balances**_.\n",
    "\n",
    "Al momento de usar esta función ejecuta la siguiente linea: _**balances_usuario = dicc_balance(historial_balance)**_.\n",
    "    \n",
    "========================================================================================================================\n",
    "\n",
    "8. **Extra:** define una función que haga algo que consideres que haría una App bancaria, utilizando cualquier parametro, recuerda que aun no hemos utilizado para nada las listas _**ingresos**_ y _**salidas**_, luego explica en clase que hace la función y su utilidad.\n",
    "    \n",
    "**Si puedes escribe algo de documentación en cada función (opcional) y recuerda importar las librerias que consideres que debas usar.**"
   ]
  },
  {
   "cell_type": "code",
   "execution_count": null,
   "id": "d21bdfe1",
   "metadata": {},
   "outputs": [],
   "source": []
  },
  {
   "cell_type": "code",
   "execution_count": null,
   "id": "9819fed6",
   "metadata": {},
   "outputs": [],
   "source": []
  },
  {
   "cell_type": "code",
   "execution_count": null,
   "id": "39dd1fd9",
   "metadata": {},
   "outputs": [],
   "source": []
  },
  {
   "cell_type": "code",
   "execution_count": null,
   "id": "4be4c6d9",
   "metadata": {},
   "outputs": [],
   "source": []
  },
  {
   "cell_type": "code",
   "execution_count": null,
   "id": "bf5c53c8",
   "metadata": {},
   "outputs": [],
   "source": []
  },
  {
   "cell_type": "code",
   "execution_count": null,
   "id": "f111fd6d",
   "metadata": {},
   "outputs": [],
   "source": []
  },
  {
   "cell_type": "code",
   "execution_count": null,
   "id": "c4f67804",
   "metadata": {},
   "outputs": [],
   "source": []
  },
  {
   "cell_type": "code",
   "execution_count": null,
   "id": "617492e5",
   "metadata": {},
   "outputs": [],
   "source": []
  },
  {
   "cell_type": "code",
   "execution_count": null,
   "id": "e86b2b96",
   "metadata": {},
   "outputs": [],
   "source": []
  },
  {
   "cell_type": "code",
   "execution_count": null,
   "id": "4c634724",
   "metadata": {},
   "outputs": [],
   "source": []
  },
  {
   "cell_type": "code",
   "execution_count": null,
   "id": "e3226dc1",
   "metadata": {},
   "outputs": [],
   "source": []
  },
  {
   "cell_type": "code",
   "execution_count": null,
   "id": "3e9d7256",
   "metadata": {},
   "outputs": [],
   "source": []
  },
  {
   "cell_type": "code",
   "execution_count": null,
   "id": "f4b98769",
   "metadata": {},
   "outputs": [],
   "source": []
  },
  {
   "cell_type": "code",
   "execution_count": null,
   "id": "6ca18e9e",
   "metadata": {},
   "outputs": [],
   "source": [
    "################################################################################################################################"
   ]
  }
 ],
 "metadata": {
  "kernelspec": {
   "display_name": "Python 3 (ipykernel)",
   "language": "python",
   "name": "python3"
  },
  "language_info": {
   "codemirror_mode": {
    "name": "ipython",
    "version": 3
   },
   "file_extension": ".py",
   "mimetype": "text/x-python",
   "name": "python",
   "nbconvert_exporter": "python",
   "pygments_lexer": "ipython3",
   "version": "3.11.5"
  }
 },
 "nbformat": 4,
 "nbformat_minor": 5
}
