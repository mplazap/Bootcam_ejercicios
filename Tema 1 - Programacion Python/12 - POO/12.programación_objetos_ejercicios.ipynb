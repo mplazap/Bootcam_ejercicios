{
 "cells": [
  {
   "cell_type": "markdown",
   "id": "fcda8787",
   "metadata": {},
   "source": [
    "## Ejercicios - Programación Orientada a Objetos"
   ]
  },
  {
   "cell_type": "markdown",
   "id": "d9ec0018",
   "metadata": {},
   "source": [
    "### Clase:\n",
    "\n",
    "- Define una clase con el nombre _**CuentaBancaria**_:\n",
    "\n",
    "1. **Parametros**: esta clase va a tomar los parametros: _**nombre**_, _**apellido**_, _**dni**_, _**tipo_cuenta**_.\n",
    "- _**tipo_cuenta**_ puede ser **\"Debito\"** o **\"Credito\"**.\n",
    "- Define estos parametros en la clase como atributos con el mismo nombre:\n",
    "    - **Ejemplo: self.nombre = nombre**\n",
    "            \n",
    "================================================================================================================================            \n",
    "\n",
    "2. **Atributos**: además de los atributos creados en base a los parametros, inicializa los siguientes:\n",
    "- _**email**_ que sera un string con la siguiente forma _**nombre.apellido@python.com**_ (todo en minúsculas).\n",
    "- _**balance**_ que sera un número flotante aleatorio entre 100 y 1000.\n",
    "- _**id_usuario**_ que sera un **número aleatorio entre 1000000 y 9999999**.\n",
    "    \n",
    "===============================================================================================================================\n",
    "        \n",
    "3. **Métodos**:\n",
    "- _**usuario_info()**_ que no tome parametros y que imprima por pantalla los datos de la persona (_**nombre**_, _**apellido**_, _**email**_, _**dni**_, _**id_usuario**_ y _**tipo_cuenta**_).\n",
    "\n",
    "\n",
    "- _**mostrar_balance()**_ que no tome parametros y que imprima por pantalla el balance actual de la persona, si el balance es negativo que imprima una advertencia.\n",
    "\n",
    "\n",
    "- _**ingresar()**_ que tome como parametro un número positvo (_**ingreso**_) y que modifique el valor del atributo _**balance**_ sumandole el valor de _**ingreso**_, luego que llame al método _**mostrar_balance()**_.\n",
    "\n",
    "\n",
    "- _**hacer_bizum()**_ que tome como parametro un número positvo (_**bizum**_) y que haga lo siguiente:\n",
    "    - Verifique que _**balance**_ >= _**bizum**_.\n",
    "    - Si se cumple la condición entonces que imprima por pantalla _**Bizum realizado con exito**_ y que modifique el valor del atributo _**balance**_ restandole el valor de _**bizum**_.\n",
    "    - Si no se cumple la condición entonces que imprima por pantalla _**No se puede realizar el bizum, fondos insuficientes**_.\n",
    "    - Luego que llame al método _**mostrar_balance()**_.\n",
    "\n",
    "\n",
    "- _**cambiar_cuenta()**_ que no tome parametros de entrada y que al ejecutarse modifique el atributo _**tipo_cuenta**_:\n",
    "    - Si estaba en **Debito** que se cambie por **Credito**.\n",
    "    - Si estaba en **Credito** que se cambie por **Debito**.\n",
    "    - Que imprima por pantalla _**Tu tipo de cuenta ha sido cambiada con exito.**_\n",
    "    \n",
    "- _**exportar_datos()**_ que no tome parametros de entrada y que retorne un diccionario con los datos del usuario (_**nombre**_, _**apellido**_, _**email**_, _**dni**_, _**tipo_cuenta**_, _**balance**_).\n",
    "\n",
    "===============================================================================================================================\n",
    "\n",
    "\n",
    "**Inicializa una instacia de esta clase, ejecuta todos los métodos y atributos para verificar que funciona correctamente.**\n",
    "\n",
    "**Define cualquier otro método que se te ocurra.**"
   ]
  },
  {
   "cell_type": "code",
   "execution_count": null,
   "id": "640e19b9",
   "metadata": {},
   "outputs": [],
   "source": []
  },
  {
   "cell_type": "code",
   "execution_count": null,
   "id": "79d3426a",
   "metadata": {},
   "outputs": [],
   "source": []
  },
  {
   "cell_type": "code",
   "execution_count": null,
   "id": "1031f73a",
   "metadata": {},
   "outputs": [],
   "source": []
  },
  {
   "cell_type": "code",
   "execution_count": null,
   "id": "731d0988",
   "metadata": {},
   "outputs": [],
   "source": []
  },
  {
   "cell_type": "code",
   "execution_count": null,
   "id": "bd2c21eb",
   "metadata": {},
   "outputs": [],
   "source": []
  },
  {
   "cell_type": "code",
   "execution_count": null,
   "id": "159d0ed0",
   "metadata": {},
   "outputs": [],
   "source": []
  },
  {
   "cell_type": "code",
   "execution_count": null,
   "id": "3b4cc728",
   "metadata": {},
   "outputs": [],
   "source": []
  },
  {
   "cell_type": "code",
   "execution_count": null,
   "id": "7b4a3466",
   "metadata": {},
   "outputs": [],
   "source": []
  },
  {
   "cell_type": "code",
   "execution_count": null,
   "id": "218d597f",
   "metadata": {},
   "outputs": [],
   "source": []
  },
  {
   "cell_type": "code",
   "execution_count": null,
   "id": "e4b4cd04",
   "metadata": {},
   "outputs": [],
   "source": []
  },
  {
   "cell_type": "code",
   "execution_count": null,
   "id": "1eb1f89b",
   "metadata": {},
   "outputs": [],
   "source": []
  },
  {
   "cell_type": "code",
   "execution_count": null,
   "id": "f4c8e9bc",
   "metadata": {},
   "outputs": [],
   "source": [
    "################################################################################################################################"
   ]
  }
 ],
 "metadata": {
  "kernelspec": {
   "display_name": "Python 3 (ipykernel)",
   "language": "python",
   "name": "python3"
  },
  "language_info": {
   "codemirror_mode": {
    "name": "ipython",
    "version": 3
   },
   "file_extension": ".py",
   "mimetype": "text/x-python",
   "name": "python",
   "nbconvert_exporter": "python",
   "pygments_lexer": "ipython3",
   "version": "3.11.5"
  }
 },
 "nbformat": 4,
 "nbformat_minor": 5
}
