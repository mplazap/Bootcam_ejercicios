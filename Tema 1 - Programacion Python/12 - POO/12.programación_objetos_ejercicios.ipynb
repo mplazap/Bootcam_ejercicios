{
 "cells": [
  {
   "cell_type": "markdown",
   "id": "fcda8787",
   "metadata": {},
   "source": [
    "## Ejercicios - Programación Orientada a Objetos"
   ]
  },
  {
   "cell_type": "markdown",
   "id": "d9ec0018",
   "metadata": {},
   "source": [
    "### Clase:\n",
    "\n",
    "- Define una clase con el nombre _**CuentaBancaria**_:\n",
    "\n",
    "1. **Parametros**: esta clase va a tomar los parametros: _**nombre**_, _**apellido**_, _**dni**_, _**tipo_cuenta**_.\n",
    "- _**tipo_cuenta**_ puede ser **\"Debito\"** o **\"Credito\"**.\n",
    "- Define estos parametros en la clase como atributos con el mismo nombre:\n",
    "    - **Ejemplo: self.nombre = nombre**\n",
    "            \n",
    "================================================================================================================================            \n",
    "\n",
    "2. **Atributos**: además de los atributos creados en base a los parametros, inicializa los siguientes:\n",
    "- _**email**_ que sera un string con la siguiente forma _**nombre.apellido@python.com**_ (todo en minúsculas).\n",
    "- _**balance**_ que sera un número flotante aleatorio entre 100 y 1000.\n",
    "- _**id_usuario**_ que sera un **número aleatorio entre 1000000 y 9999999**.\n",
    "    \n",
    "===============================================================================================================================\n",
    "        \n",
    "3. **Métodos**:\n",
    "- _**usuario_info()**_ que no tome parametros y que imprima por pantalla los datos de la persona (_**nombre**_, _**apellido**_, _**email**_, _**dni**_, _**id_usuario**_ y _**tipo_cuenta**_).\n",
    "\n",
    "\n",
    "- _**mostrar_balance()**_ que no tome parametros y que imprima por pantalla el balance actual de la persona, si el balance es negativo que imprima una advertencia.\n",
    "\n",
    "\n",
    "- _**ingresar()**_ que tome como parametro un número positvo (_**ingreso**_) y que modifique el valor del atributo _**balance**_ sumandole el valor de _**ingreso**_, luego que llame al método _**mostrar_balance()**_.\n",
    "\n",
    "\n",
    "- _**hacer_bizum()**_ que tome como parametro un número positvo (_**bizum**_) y que haga lo siguiente:\n",
    "    - Verifique que _**balance**_ >= _**bizum**_.\n",
    "    - Si se cumple la condición entonces que imprima por pantalla _**Bizum realizado con exito**_ y que modifique el valor del atributo _**balance**_ restandole el valor de _**bizum**_.\n",
    "    - Si no se cumple la condición entonces que imprima por pantalla _**No se puede realizar el bizum, fondos insuficientes**_.\n",
    "    - Luego que llame al método _**mostrar_balance()**_.\n",
    "\n",
    "\n",
    "- _**cambiar_cuenta()**_ que no tome parametros de entrada y que al ejecutarse modifique el atributo _**tipo_cuenta**_:\n",
    "    - Si estaba en **Debito** que se cambie por **Credito**.\n",
    "    - Si estaba en **Credito** que se cambie por **Debito**.\n",
    "    - Que imprima por pantalla _**Tu tipo de cuenta ha sido cambiada con exito.**_\n",
    "    \n",
    "- _**exportar_datos()**_ que no tome parametros de entrada y que retorne un diccionario con los datos del usuario (_**nombre**_, _**apellido**_, _**email**_, _**dni**_, _**tipo_cuenta**_, _**balance**_).\n",
    "\n",
    "===============================================================================================================================\n",
    "\n",
    "\n",
    "**Inicializa una instacia de esta clase, ejecuta todos los métodos y atributos para verificar que funciona correctamente.**\n",
    "\n",
    "**Define cualquier otro método que se te ocurra.**"
   ]
  },
  {
   "cell_type": "markdown",
   "id": "dd6efff0",
   "metadata": {},
   "source": [
    "_______________________________________________________________________________"
   ]
  },
  {
   "cell_type": "markdown",
   "id": "640e19b9",
   "metadata": {},
   "source": [
    "- Define una clase con el nombre _**CuentaBancaria**_:\n",
    "\n",
    "1. **Parametros**: esta clase va a tomar los parametros: _**nombre**_, _**apellido**_, _**dni**_, _**tipo_cuenta**_.\n",
    "- _**tipo_cuenta**_ puede ser **\"Debito\"** o **\"Credito\"**.\n",
    "- Define estos parametros en la clase como atributos con el mismo nombre:\n",
    "    - **Ejemplo: self.nombre = nombre**"
   ]
  },
  {
   "cell_type": "code",
   "execution_count": 182,
   "id": "79d3426a",
   "metadata": {},
   "outputs": [
    {
     "name": "stdout",
     "output_type": "stream",
     "text": [
      "Nombre: Pepe\n",
      "Apellido: Martinez\n",
      "DNI: 3498613Y\n",
      "Email: pepe.martinez@python.com\n",
      "Id de Usuario: 9882265\n",
      "Tipo de cuenta: Credito\n",
      "Tienes 972.01€\n",
      "Has ingresado 100€\n",
      "El nuevo balance es 1072.01€\n"
     ]
    }
   ],
   "source": [
    "# Definimos la clase y sus atributos de clase(Estos pertenencen a la clase en general y compartidos por todas las instancias (Objeto con las caracteristicas de la clase)).\n",
    "class CuentaBancaria:\n",
    "    nombre = \"Pepe\"\n",
    "    apellido = \"Martinez\"\n",
    "    dni = \"3498613Y\"\n",
    "    ingreso = \"\"\n",
    "    \n",
    " # Esto es un metodo, es una funcion dentro de una clase. Su primer parametro debe ser siempre \"self\" aunque sea el único. \n",
    " # Los metodos solo funcionan dentro de su clase. \n",
    " # Es de tipo \"constructor\" al ser __init__ y se ejecuta cuando se crea una instancia (Objeto con las caracteristicas de la clase).\n",
    " # Al crear la instancia hay que pasarle este parametro -- cuenta_cliente = CuentaBancaria (tipo_cuenta = \"Credito\") --\n",
    " #                                                          instancia           clase         parametro del metodo\n",
    "    \n",
    "    def __init__(self, tipo_cuenta): \n",
    "        self.tipo_cuenta = tipo_cuenta\n",
    "             \n",
    "        \n",
    " # ATRIBUTOS\n",
    " # Son atributos de la clase, por lo que estaran compartiddos por todas las instancias\n",
    " # Para que fueran atributos para solo la instancia deberian ser \"self.atributo\"\n",
    "       \n",
    "        CuentaBancaria.email = \"pepe.martinez@python.com\".lower() # metodo para convertir en minuscula\n",
    "\n",
    "        import random # Importamos el modulo \"random\" para numeros aleatorios\n",
    "        CuentaBancaria.balance = random.uniform(100, 1000) # Con la funcion \".uniform\" creamos un float entre un rango dado\n",
    "        CuentaBancaria.balance = round(CuentaBancaria.balance, 2) # Redondeamos a 2 decimales\n",
    "        CuentaBancaria.id_usuario = random.randint(1000000, 9999999) # Con la funcion \"randint\" creamos un int entre un rango\n",
    "\n",
    "# Probamos que estan correctos los atributos\n",
    "        #print(CuentaBancaria.email)\n",
    "        #print(\"\")\n",
    "        #print(CuentaBancaria.balance)\n",
    "        #print(\"\")\n",
    "        #print(CuentaBancaria.id_usuario) \n",
    "\n",
    " # METODOS         \n",
    "   \n",
    "    def usuario_info(self): # Muestra en forma de lista los atributos de la clase y de la instancia\n",
    "        print(f\"Nombre: {self.nombre}\") # Toma el nombre del atributo que creamos al crear la clase\n",
    "        print(f\"Apellido: {self.apellido}\")\n",
    "        print(f\"DNI: {self.dni}\")\n",
    "        print(f\"Email: {self.email}\")\n",
    "        print(f\"Id de Usuario: {self.id_usuario}\")\n",
    "        print(f\"Tipo de cuenta: {self.tipo_cuenta}\") # Toma el atributo del metodo que creamos para pasarle el tipo de cuenta al crear la instancia\n",
    "        \n",
    "        \n",
    "# Metodo para añadir ingresos \n",
    "    def ingresar(self, ingreso): # Definimos el metodo con el parametro obligatorio de \"ingresar\", donde se debe poner una cantidad\n",
    "        if ingreso > 0: # Comprobamos que sea un numero positivo\n",
    "            CuentaBancaria.balance += ingreso # Sumamos el ingreso al balance existente\n",
    "            print(\"Has ingresado \" + str(ingreso) + \"€\") # Mostramos la cantidad que se ha ingresado\n",
    "            print(\"El nuevo balance es \" + str(CuentaBancaria.balance) + \"€\") # Mostramos el balance total ya con el ingreso incluido\n",
    "        else:\n",
    "            print (\"El ingreso debe ser un numero positivo\")\n",
    "        \n",
    "        \n",
    "\n",
    "cuenta_cliente = CuentaBancaria (tipo_cuenta = \"Credito\") # Creamos una instancia \n",
    "cuenta_cliente.usuario_info()  # Mostramos por pantalla todos los metodos de la clase\n",
    "  \n",
    "# Comprobamos si el saldo es negativo o positivo\n",
    "  \n",
    "if CuentaBancaria.balance < 0:\n",
    "    print(\"Estas en balance negativo, por favor haz un ingreso en la cuenta\")\n",
    "else:\n",
    "  print(\"Tienes \" + str(cuenta_cliente.balance) + \"€\")  # Mostramos por pantalla un atributo de la clase    \n",
    "  \n",
    "\n",
    "cuenta_cliente.ingresar(100) # Llamamos al metodo para ingresar una cantidad de dinero, ese parametro hay que pasarselo\n",
    "                    \n",
    "  \n",
    "  \n",
    "                             "
   ]
  },
  {
   "cell_type": "code",
   "execution_count": null,
   "id": "159d0ed0",
   "metadata": {},
   "outputs": [],
   "source": []
  },
  {
   "cell_type": "code",
   "execution_count": null,
   "id": "3b4cc728",
   "metadata": {},
   "outputs": [],
   "source": []
  },
  {
   "cell_type": "code",
   "execution_count": null,
   "id": "7b4a3466",
   "metadata": {},
   "outputs": [],
   "source": []
  },
  {
   "cell_type": "code",
   "execution_count": null,
   "id": "218d597f",
   "metadata": {},
   "outputs": [],
   "source": []
  },
  {
   "cell_type": "code",
   "execution_count": null,
   "id": "e4b4cd04",
   "metadata": {},
   "outputs": [],
   "source": []
  },
  {
   "cell_type": "code",
   "execution_count": null,
   "id": "1eb1f89b",
   "metadata": {},
   "outputs": [],
   "source": []
  },
  {
   "cell_type": "code",
   "execution_count": 2,
   "id": "f4c8e9bc",
   "metadata": {},
   "outputs": [],
   "source": [
    "################################################################################################################################"
   ]
  }
 ],
 "metadata": {
  "kernelspec": {
   "display_name": "Python 3",
   "language": "python",
   "name": "python3"
  },
  "language_info": {
   "codemirror_mode": {
    "name": "ipython",
    "version": 3
   },
   "file_extension": ".py",
   "mimetype": "text/x-python",
   "name": "python",
   "nbconvert_exporter": "python",
   "pygments_lexer": "ipython3",
   "version": "3.13.0"
  }
 },
 "nbformat": 4,
 "nbformat_minor": 5
}
