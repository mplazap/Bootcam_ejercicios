{
 "cells": [
  {
   "cell_type": "markdown",
   "id": "247d44db",
   "metadata": {},
   "source": [
    "## Ejercicios - Extras 02"
   ]
  },
  {
   "cell_type": "markdown",
   "id": "ee8c9de5",
   "metadata": {},
   "source": [
    "### Ejercicio 01:\n",
    "- Escribir un código que pida por pantalla una cadena de caracteres y retorne un diccionario con cada palabra que contiene y su frecuencia. Escribe otro código que use el diccionario generado en la parte anterior y que retorne la palabra más repetida y su frecuencia. (No se puede usar **Counter**)"
   ]
  },
  {
   "cell_type": "code",
   "execution_count": null,
   "id": "fef77287",
   "metadata": {},
   "outputs": [],
   "source": []
  },
  {
   "cell_type": "code",
   "execution_count": null,
   "id": "55f4bf9c",
   "metadata": {},
   "outputs": [],
   "source": []
  },
  {
   "cell_type": "code",
   "execution_count": null,
   "id": "b1f0f673",
   "metadata": {},
   "outputs": [],
   "source": []
  },
  {
   "cell_type": "markdown",
   "id": "ab6abffe",
   "metadata": {},
   "source": [
    "### Ejercicio 02:\n",
    "- Dada la siguiente lista de enteros y escribe un código que retorne la misma lista sin numeros repetidos y ordenados."
   ]
  },
  {
   "cell_type": "code",
   "execution_count": null,
   "id": "4a3436c5",
   "metadata": {},
   "outputs": [],
   "source": [
    "lista_num = [6, 40, 48, 32, 23, 48, 47, 26, 14, 49, 45, 1, 29, 23, 19, 38, 19, 3, 24, 29, 30, 28, 40, 2, 22, 44, 39, 11,\n",
    "             46, 29, 25, 22, 47, 15, 7, 38, 13, 22, 32, 22, 44, 45, 47, 6, 49, 39, 48, 26, 3, 17, 28, 9, 29, 14, 42, 34,\n",
    "             48, 5, 32, 35, 11, 34, 41, 2, 4, 50, 39, 14, 1, 23, 49, 43, 3, 34, 33, 50, 20, 31, 38, 6, 40, 45, 16, 15, 9,\n",
    "             4, 32, 37, 48, 31, 47, 36, 4, 43, 23, 44, 41, 17, 28, 36]\n",
    "\n",
    "print(lista_num)"
   ]
  },
  {
   "cell_type": "code",
   "execution_count": null,
   "id": "a7bcb828",
   "metadata": {},
   "outputs": [],
   "source": []
  },
  {
   "cell_type": "code",
   "execution_count": null,
   "id": "36506b90",
   "metadata": {},
   "outputs": [],
   "source": []
  },
  {
   "cell_type": "markdown",
   "id": "44156e82",
   "metadata": {},
   "source": [
    "### Ejercicio 03:\n",
    "- Dada la siguiente lista de enteros escribe un código que retorne el total de elementos con un número par de dígitos.\n",
    "\n",
    "    - **Ejemplo:** [2, 10, 22, 100, 75, 2000] tiene 4 elementos con un número par de dígitos."
   ]
  },
  {
   "cell_type": "code",
   "execution_count": null,
   "id": "0ccb732b",
   "metadata": {},
   "outputs": [],
   "source": [
    "lista_num = [6, 40, 48, 32, 23, 48, 47, 26, 14, 49, 45, 1, 29, 23, 19, 38, 19, 3, 24, 29, 30, 28, 40, 2, 22, 44, 39, 11,\n",
    "             46, 29, 25, 22, 47, 15, 7, 38, 13, 22, 32, 22, 44, 45, 47, 6, 49, 39, 48, 26, 3, 17, 28, 9, 29, 14, 42, 34,\n",
    "             48, 5, 32, 35, 11, 34, 41, 2, 4, 50, 39, 14, 1, 23, 49, 43, 3, 34, 33, 50, 20, 31, 38, 6, 40, 45, 16, 15, 9,\n",
    "             4, 32, 37, 48, 31, 47, 36, 4, 43, 23, 44, 41, 17, 28, 36]"
   ]
  },
  {
   "cell_type": "code",
   "execution_count": null,
   "id": "443c97c0",
   "metadata": {},
   "outputs": [],
   "source": []
  },
  {
   "cell_type": "code",
   "execution_count": null,
   "id": "bc92865e",
   "metadata": {},
   "outputs": [],
   "source": []
  },
  {
   "cell_type": "markdown",
   "id": "ebb2713c",
   "metadata": {},
   "source": [
    "### Ejercicio 04:\n",
    "- Crea una función que reciba una cadena de caracteres y que retorne si la cadena es un palindromo. No tomes en cuenta los espacios en blanco y reemplaza las vocales con acentos a vocales sin acento si es necesario, elimina cualquier signo de puntuación.\n",
    "\n",
    "    - Ejemplo: **\"Somos o no somos\"** es un palindromo."
   ]
  },
  {
   "cell_type": "code",
   "execution_count": null,
   "id": "bf25d33f",
   "metadata": {},
   "outputs": [],
   "source": []
  },
  {
   "cell_type": "code",
   "execution_count": null,
   "id": "343f10c2",
   "metadata": {},
   "outputs": [],
   "source": []
  },
  {
   "cell_type": "code",
   "execution_count": null,
   "id": "440915c8",
   "metadata": {},
   "outputs": [],
   "source": []
  },
  {
   "cell_type": "markdown",
   "id": "17b30fac",
   "metadata": {},
   "source": [
    "### Ejercicio 05:\n",
    "- Dado una lista con los numeros de 0 al n, escribe un código que verifique si falta algun numero en esa lista y que retorne cual es."
   ]
  },
  {
   "cell_type": "code",
   "execution_count": null,
   "id": "380f61cb",
   "metadata": {},
   "outputs": [],
   "source": [
    "lista_num = [1, 2, 3, 4, 5, 6, 7, 9, 11, 13, 14, 15, 16, 17, 19, 20, 22, 23, 24, 25, 26, 28, 29,\n",
    "             30, 31, 32, 33, 34, 35, 36, 37, 38, 39, 40, 41, 42, 43, 44, 45, 46, 47, 48, 49, 50]"
   ]
  },
  {
   "cell_type": "code",
   "execution_count": null,
   "id": "5e251cea",
   "metadata": {},
   "outputs": [],
   "source": []
  },
  {
   "cell_type": "code",
   "execution_count": null,
   "id": "0a232d87",
   "metadata": {},
   "outputs": [],
   "source": []
  },
  {
   "cell_type": "markdown",
   "id": "642499f4",
   "metadata": {},
   "source": [
    "### Ejemplo 06:\n",
    "- Dado una lista de numeros enteros, mover todos los 0's al final de la lista sin modificar el orden relativo de los otros numeros que no sean 0."
   ]
  },
  {
   "cell_type": "code",
   "execution_count": null,
   "id": "4d6155e9",
   "metadata": {},
   "outputs": [],
   "source": [
    "lista_num = [8, 3, 7, 7, 6, 0, 1, 2, 1, 1, 1, 8, 6, 0, 0, 5, 7, 7, 4, 1, 8, 1, 3, 3, 2,\n",
    "             6, 8, 3, 8, 0, 6, 5, 5, 2, 9, 6, 6, 8, 4, 7, 5, 0, 0, 6, 2, 8, 1, 3, 7, 5]\n",
    "\n",
    "print(lista_num)"
   ]
  },
  {
   "cell_type": "code",
   "execution_count": null,
   "id": "ed16dc8b",
   "metadata": {},
   "outputs": [],
   "source": []
  },
  {
   "cell_type": "code",
   "execution_count": null,
   "id": "4a284a2e",
   "metadata": {},
   "outputs": [],
   "source": []
  },
  {
   "cell_type": "markdown",
   "id": "d77ebb30",
   "metadata": {},
   "source": [
    "### Ejercicio 07:\n",
    "- Dada una cadena de caracteres, invierte el orden de las letras de cada palabra y retorna la cadena en el orden inicial.\n",
    "    - **Ejemplos**:\n",
    "        - \"Hola Mundo\" --> \"aloH odnuM\"\n",
    "        - \"Data Science\" --> \"ataD ecneicS\""
   ]
  },
  {
   "cell_type": "code",
   "execution_count": null,
   "id": "00a4f05b",
   "metadata": {},
   "outputs": [],
   "source": []
  },
  {
   "cell_type": "code",
   "execution_count": null,
   "id": "f5b0c72c",
   "metadata": {},
   "outputs": [],
   "source": []
  },
  {
   "cell_type": "code",
   "execution_count": null,
   "id": "afe35f9a",
   "metadata": {},
   "outputs": [],
   "source": []
  },
  {
   "cell_type": "code",
   "execution_count": null,
   "id": "3490698e-e870-4d22-83de-47b883e3ef5e",
   "metadata": {},
   "outputs": [],
   "source": [
    "################################################################################################################################"
   ]
  }
 ],
 "metadata": {
  "kernelspec": {
   "display_name": "Python 3 (ipykernel)",
   "language": "python",
   "name": "python3"
  },
  "language_info": {
   "codemirror_mode": {
    "name": "ipython",
    "version": 3
   },
   "file_extension": ".py",
   "mimetype": "text/x-python",
   "name": "python",
   "nbconvert_exporter": "python",
   "pygments_lexer": "ipython3",
   "version": "3.11.5"
  }
 },
 "nbformat": 4,
 "nbformat_minor": 5
}
