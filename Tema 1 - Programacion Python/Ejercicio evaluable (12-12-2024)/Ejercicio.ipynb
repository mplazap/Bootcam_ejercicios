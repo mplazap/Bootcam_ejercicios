{
 "cells": [
  {
   "cell_type": "markdown",
   "metadata": {},
   "source": [
    "Crea una clase usuario\n",
    "lista de objetos de la clase usuario\n",
    "Con la estructura del menu while crear un menu while de opciones, donde las opciones sean:\n",
    "    Imprimir los usuarios de la lista\n",
    "\n",
    "    Imprimir un usuario por su ID (Bucle que busque por id) Con imput preguntamos que usuario quiere ver y que lo imprima\n",
    "\n",
    "    Crear un objeto usuario, preguntar datos con la funcion imput() Nombre (str), mail (str), edad (int), estudiante (bool) opcinal fecha cumpleaños con date\n",
    "\n",
    "    Actualizar un usuario existente (modificar losd datos de un usuario por el que preguntamos)\n",
    "\n",
    "    Borrar un usuario por su email\n",
    "\n",
    "    Borrar todos los usuarios\n",
    "\n",
    "    Salir\n",
    "\n",
    "Extra opcional guardar los usuarios en un csv"
   ]
  },
  {
   "cell_type": "code",
   "execution_count": null,
   "metadata": {},
   "outputs": [],
   "source": [
    "# EJEMPLO \n",
    "\n",
    "class Product:\n",
    "    def __init__(self, title):\n",
    "        self.title = title\n",
    "        \n",
    "\n",
    "# Para sacar los datos e imprimirlos podemos usar el metodo __str__\n",
    "    def __str__(self):\n",
    "        return f\"Product: title {self.title}, price {self.price}\"\n",
    "        "
   ]
  },
  {
   "cell_type": "code",
   "execution_count": null,
   "metadata": {},
   "outputs": [],
   "source": [
    "# Ejemplo de como mostrar 1 producto\n",
    "\"\"\"\n",
    "case 2:\n",
    "            title = input(\"Introduce el título del producto\")\n",
    "            \n",
    "            # Bucle for que itere los productos y compruebe el titulo\n",
    "            for producto in lista_productos:\n",
    "                \n",
    "                if title == producto.title:\n",
    "                    print(f\"Producto: {producto.title}\")\n",
    "                    print(f\"Precio: {producto.price}€\")\n",
    "                    print(f\"IVA: {producto.calcular_iva()}€\")\n",
    "                    print(f\"Precio total con IVA: {producto.price + producto.calcular_iva()}€\")\n",
    "                    print(\"-\" * 30\n",
    "\"\"\"\n"
   ]
  }
 ],
 "metadata": {
  "kernelspec": {
   "display_name": "Python 3",
   "language": "python",
   "name": "python3"
  },
  "language_info": {
   "name": "python",
   "version": "3.13.0"
  }
 },
 "nbformat": 4,
 "nbformat_minor": 2
}
