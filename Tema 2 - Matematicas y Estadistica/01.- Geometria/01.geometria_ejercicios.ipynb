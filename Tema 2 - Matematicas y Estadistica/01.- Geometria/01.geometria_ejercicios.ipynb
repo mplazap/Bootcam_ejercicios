{
 "cells": [
  {
   "cell_type": "markdown",
   "id": "fbe7c40d-5324-4f4d-a058-35ba2baac346",
   "metadata": {
    "tags": []
   },
   "source": [
    "## Ejercicios - Geometria"
   ]
  },
  {
   "cell_type": "code",
   "execution_count": null,
   "id": "93abd46c-3c64-45ae-8ca3-d299a555a262",
   "metadata": {
    "tags": []
   },
   "outputs": [],
   "source": [
    "import numpy as np\n",
    "\n",
    "import matplotlib\n",
    "import matplotlib.pyplot as plt\n",
    "\n",
    "import random"
   ]
  },
  {
   "cell_type": "code",
   "execution_count": null,
   "id": "85676caa-c1e8-4715-a3b8-c3dbc4c07dbf",
   "metadata": {
    "tags": []
   },
   "outputs": [],
   "source": [
    "# Versiones\n",
    "\n",
    "print(f\"numpy=={np.__version__}\")\n",
    "print(f\"matplotlib=={matplotlib.__version__}\")"
   ]
  },
  {
   "cell_type": "markdown",
   "id": "d474e1db-7030-432e-9fa1-5d50e66ca2ef",
   "metadata": {},
   "source": [
    "### Ejercicio 1:\n",
    "- Muestra una recta a partir los siguientes puntos:\n",
    "    - $P1(-2, -2)$\n",
    "    - $P2(2, 5)$"
   ]
  },
  {
   "cell_type": "code",
   "execution_count": null,
   "id": "33f8b845-e03b-43d7-bb55-f49ca1d2cce3",
   "metadata": {
    "tags": []
   },
   "outputs": [],
   "source": [
    "P1 = (-2, -2)\n",
    "P2 = (2, 5)\n",
    "\n",
    "# Punto 1\n",
    "plt.plot(P1[0], P1[1], marker = \"o\", color = \"blue\") \n",
    "\n",
    "# Punto 2\n",
    "plt.plot(P2[0], P2[1], marker = \"o\", color = \"red\") \n",
    "\n",
    "# Recta\n",
    "plt.plot([P1[0], P2[0]], [P1[1], P2[1]], color = \"black\")\n",
    "\n",
    "# Eje X\n",
    "plt.axhline(0, color = \"black\")\n",
    "\n",
    "# Eje Y\n",
    "plt.axvline(0, color = \"black\")\n",
    "\n",
    "plt.grid()\n",
    "plt.show()"
   ]
  },
  {
   "cell_type": "code",
   "execution_count": null,
   "id": "f96f48ca-7426-41cd-9e40-8f1f3495f042",
   "metadata": {},
   "outputs": [],
   "source": []
  },
  {
   "cell_type": "code",
   "execution_count": null,
   "id": "f06beb73-eea1-40d1-b68f-aa5b0c1e24fd",
   "metadata": {},
   "outputs": [],
   "source": []
  },
  {
   "cell_type": "markdown",
   "id": "6ad7cb23-486c-44ff-98cd-f078e85c366b",
   "metadata": {},
   "source": [
    "### Ejercicio 2:\n",
    "- Usando la ecuación de la recta, encuentra la recta de los dos puntos del ejercicio anterior.\n",
    "\n",
    "$$\n",
    "y = \\frac{(y_2 - y_1)(x - x_1)}{x_2 - x_1} + y_1\n",
    "$$\n",
    "\n",
    "- Usando _**x = np.linspace(-10, 10, 2)**_ grafica la recta.\n",
    "- Grafica también los dos puntos."
   ]
  },
  {
   "cell_type": "code",
   "execution_count": 9,
   "id": "38c57618-9fa4-4481-8d98-b9f86489c7c6",
   "metadata": {
    "tags": []
   },
   "outputs": [
    {
     "name": "stdout",
     "output_type": "stream",
     "text": [
      "x: [-10.  10.]\n",
      "y: [-16.  19.]\n"
     ]
    },
    {
     "data": {
      "image/png": "[encoded data removed]",
      "text/plain": [
       "<Figure size 640x480 with 1 Axes>"
      ]
     },
     "metadata": {},
     "output_type": "display_data"
    }
   ],
   "source": [
    "P1 = (-2, -2)\n",
    "P2 = (2, 5)\n",
    "x = np.linspace(-10, 10, 2) # Genera valores en x en el rango que indiquemos\n",
    "# La recta se crea en funcion de estos valores\n",
    "\n",
    "y = ( ( (P2[1] - P1[1]) * (x-P1[0]) ) / (P2[0] - P1[0] ) ) + P1[1] # Es la formula de arriba\n",
    "\n",
    "print(f\"x: {x}\") # Mostramos los puntos de la recta \n",
    "print(f\"y: {y}\")\n",
    "\n",
    "# Punto 1\n",
    "plt.plot(P1[0], P1[1], marker = \"o\", color = \"blue\") \n",
    "\n",
    "# Punto 2\n",
    "plt.plot(P2[0], P2[1], marker = \"o\", color = \"red\") \n",
    "\n",
    "# Recta\n",
    "plt.plot(x, y)\n",
    "\n",
    "# Eje X e Y\n",
    "plt.axhline(0, color = \"black\")\n",
    "plt.axvline(0, color = \"black\")\n",
    "\n",
    "# Mostrar el grid o cuadricula\n",
    "plt.grid()\n",
    "plt.show()"
   ]
  },
  {
   "cell_type": "markdown",
   "id": "2a626362-9377-4527-9a0e-0ffad36e50b3",
   "metadata": {},
   "source": [
    "### Ejercicio 3:\n",
    "\n",
    "- Define una función que tome como parámetro un número entero $n$ y que genere una lista de números enteros aleatorios entre el 1 y el 10.000 usando la librería _**random**_."
   ]
  },
  {
   "cell_type": "code",
   "execution_count": null,
   "id": "c6d65770-e2e3-4e4e-b40b-d0b0f0fa8ab2",
   "metadata": {},
   "outputs": [],
   "source": []
  },
  {
   "cell_type": "code",
   "execution_count": null,
   "id": "5734d9e0-830f-40e1-8b85-13c43b64e401",
   "metadata": {},
   "outputs": [],
   "source": []
  },
  {
   "cell_type": "code",
   "execution_count": null,
   "id": "276f7d3c-7c61-4f67-8b8a-33889cb31fe7",
   "metadata": {},
   "outputs": [],
   "source": []
  },
  {
   "cell_type": "markdown",
   "id": "e38a7fcb-d518-4e53-8497-27b9d191a106",
   "metadata": {},
   "source": [
    "### Ejercicio 4:\n",
    "\n",
    "- Define una función que tome como parámetro un número entero $n$ y que genere una lista de 0's y 1's de forma aleatoria usando la librería _**random**_."
   ]
  },
  {
   "cell_type": "code",
   "execution_count": null,
   "id": "61feee38-25ef-4754-8894-a9da1e60493b",
   "metadata": {},
   "outputs": [],
   "source": []
  },
  {
   "cell_type": "code",
   "execution_count": null,
   "id": "b15668da-3009-47c7-8bbe-7f811b3b925b",
   "metadata": {},
   "outputs": [],
   "source": []
  },
  {
   "cell_type": "code",
   "execution_count": null,
   "id": "11b9fed7-d665-4500-bdcb-234db2be4f44",
   "metadata": {},
   "outputs": [],
   "source": []
  },
  {
   "cell_type": "markdown",
   "id": "705d2b7f-f93c-4665-89cb-6fc28d2ded95",
   "metadata": {},
   "source": [
    "### Ejercicio 5:\n",
    "\n",
    "- Define una función que reciba dos listas y que calcule la _**distancia Euclideana**_.\n",
    "\n",
    "$$D(P1, P2) = \\sqrt[]{\\sum_{i = 0}^{n} (x_{i} - y_{i})^{2}}$$\n",
    "\n",
    "- Genera dos listas con la función del _**ejercicio 1**_ función y calcula la distancia de esas dos listas.\n",
    "\n",
    "- Genera dos listas con la función del _**ejercicio 2**_ función y calcula la distancia de esas dos listas."
   ]
  },
  {
   "cell_type": "code",
   "execution_count": null,
   "id": "83897843-a643-4a6e-bf34-b834d9f58843",
   "metadata": {
    "tags": []
   },
   "outputs": [],
   "source": []
  },
  {
   "cell_type": "code",
   "execution_count": null,
   "id": "5b367392-b470-495e-aba5-a60d24381913",
   "metadata": {},
   "outputs": [],
   "source": []
  },
  {
   "cell_type": "code",
   "execution_count": null,
   "id": "c4fc274a-1260-4d3e-85f3-a8de2f678fbe",
   "metadata": {
    "tags": []
   },
   "outputs": [],
   "source": []
  },
  {
   "cell_type": "markdown",
   "id": "285c9bce-6f00-422e-af88-fd0a180b7bd5",
   "metadata": {},
   "source": [
    "### Ejercicio 4:\n",
    "\n",
    "- Define una función que reciba dos listas y que calcule la _**distancia Manhattan**_.\n",
    "\n",
    "$$\\text {Manhattan} = \\sum_{i = 0}^{n}\\left| x_{i} - y_{i} \\right|$$\n",
    "\n",
    "- Genera dos listas con la función del _**ejercicio 1**_ función y calcula la distancia de esas dos listas.\n",
    "\n",
    "- Genera dos listas con la función del _**ejercicio 2**_ función y calcula la distancia de esas dos listas."
   ]
  },
  {
   "cell_type": "code",
   "execution_count": null,
   "id": "f433c798-f1ff-440e-a0fa-048c7c43a131",
   "metadata": {
    "tags": []
   },
   "outputs": [],
   "source": []
  },
  {
   "cell_type": "code",
   "execution_count": null,
   "id": "0928e5bc-94af-43b4-ae4f-7aaf582a2706",
   "metadata": {
    "tags": []
   },
   "outputs": [],
   "source": []
  },
  {
   "cell_type": "code",
   "execution_count": null,
   "id": "a7feca38-e2c7-4f3f-b657-106747fa4f4f",
   "metadata": {
    "tags": []
   },
   "outputs": [],
   "source": []
  },
  {
   "cell_type": "markdown",
   "id": "0eb6d8ca-94e0-48aa-872c-647f82d3dbca",
   "metadata": {},
   "source": [
    "### Ejercicio 5:\n",
    "\n",
    "- Define una función que reciba dos listas y que calcule la _**distancia Chebyshev**_.\n",
    "\n",
    "$$\\text{Chebysev} = max(\\left| x_{1} - x_{0} \\right|, \\left| y_{1} - y_{0} \\right|, ..., \\left| k_{1} - k_{0} \\right|)$$\n",
    "\n",
    "- Genera dos listas con la función del _**ejercicio 1**_ función y calcula la distancia de esas dos listas.\n",
    "\n",
    "- Genera dos listas con la función del _**ejercicio 2**_ función y calcula la distancia de esas dos listas."
   ]
  },
  {
   "cell_type": "code",
   "execution_count": null,
   "id": "069da3a9-5dc1-4c3d-b8bc-6091fbbace42",
   "metadata": {
    "tags": []
   },
   "outputs": [],
   "source": []
  },
  {
   "cell_type": "code",
   "execution_count": null,
   "id": "3ad9b0ee-a4c3-4eae-9770-2bf0e5ddcf56",
   "metadata": {
    "tags": []
   },
   "outputs": [],
   "source": []
  },
  {
   "cell_type": "code",
   "execution_count": null,
   "id": "ba150fe1-6239-48fb-8b06-d7d0246db415",
   "metadata": {
    "tags": []
   },
   "outputs": [],
   "source": []
  },
  {
   "cell_type": "markdown",
   "id": "8b2bac9e-249e-4239-8191-f51daa9458e6",
   "metadata": {},
   "source": [
    "### Ejercicio 6:\n",
    "\n",
    "- Define una función que reciba dos listas y un valor $p$ y que calcule la _**distancia Minkowski**_.\n",
    "\n",
    "$$\n",
    "\\text{Minkowski} = \\left(\\sum_{i=1}^{n}\\left|x_i - y_i\\right|^{p}\\right)^{\\frac{1}{p}}\n",
    "$$\n",
    "\n",
    "- Genera dos listas con la función del _**ejercicio 1**_ función y calcula la distancia de esas dos listas.\n",
    "\n",
    "- Genera dos listas con la función del _**ejercicio 2**_ función y calcula la distancia de esas dos listas."
   ]
  },
  {
   "cell_type": "code",
   "execution_count": null,
   "id": "aa5f797d-01e7-48bb-b17e-c27b89f71c89",
   "metadata": {
    "tags": []
   },
   "outputs": [],
   "source": []
  },
  {
   "cell_type": "code",
   "execution_count": null,
   "id": "8f027b2e-273c-48d7-9b8d-20e8a4368fc3",
   "metadata": {
    "tags": []
   },
   "outputs": [],
   "source": []
  },
  {
   "cell_type": "code",
   "execution_count": null,
   "id": "e475fa43-31ac-4656-be08-bd69ebf491c5",
   "metadata": {
    "tags": []
   },
   "outputs": [],
   "source": []
  },
  {
   "cell_type": "code",
   "execution_count": null,
   "id": "8851924b-e652-4b21-8d4d-bd56c961057a",
   "metadata": {},
   "outputs": [],
   "source": [
    "##############################################################################################################################"
   ]
  }
 ],
 "metadata": {
  "kernelspec": {
   "display_name": "base",
   "language": "python",
   "name": "python3"
  },
  "language_info": {
   "codemirror_mode": {
    "name": "ipython",
    "version": 3
   },
   "file_extension": ".py",
   "mimetype": "text/x-python",
   "name": "python",
   "nbconvert_exporter": "python",
   "pygments_lexer": "ipython3",
   "version": "3.12.7"
  }
 },
 "nbformat": 4,
 "nbformat_minor": 5
}
