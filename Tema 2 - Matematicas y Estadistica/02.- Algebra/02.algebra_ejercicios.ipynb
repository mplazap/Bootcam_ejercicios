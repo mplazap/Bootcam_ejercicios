{
 "cells": [
  {
   "cell_type": "markdown",
   "id": "1ace7bee-b24c-400e-9d93-7a84eec5d2e1",
   "metadata": {},
   "source": [
    "## Ejercicios - Algebra"
   ]
  },
  {
   "cell_type": "code",
   "execution_count": 1,
   "id": "2ab86bce-70ec-4791-92e0-5062aa3b751c",
   "metadata": {
    "tags": []
   },
   "outputs": [],
   "source": [
    "import numpy as np\n",
    "\n",
    "import random"
   ]
  },
  {
   "cell_type": "code",
   "execution_count": 2,
   "id": "0baa6b5f-63c7-4738-a9ba-f12c6636a4ec",
   "metadata": {
    "tags": []
   },
   "outputs": [
    {
     "name": "stdout",
     "output_type": "stream",
     "text": [
      "numpy==1.26.4\n"
     ]
    }
   ],
   "source": [
    "# Versiones\n",
    "print(f\"numpy=={np.__version__}\")"
   ]
  },
  {
   "cell_type": "markdown",
   "id": "9cad9f27-4d1e-429d-b0ac-fa89e8490ef2",
   "metadata": {},
   "source": [
    "### Ejercicio 1:\n",
    "- Usando la librería _**random**_, genera una matriz de $4x4$ de números enteros del 1 al 100, usando bucles.\n",
    "- El resultado debe ser un _**np.array()**_."
   ]
  },
  {
   "cell_type": "code",
   "execution_count": 3,
   "id": "b4eb665c-fffe-4448-8048-0bdba9380795",
   "metadata": {
    "tags": []
   },
   "outputs": [
    {
     "name": "stdout",
     "output_type": "stream",
     "text": [
      "[[1 2 3]\n",
      " [1 2 3]]\n",
      "(2, 3)\n"
     ]
    }
   ],
   "source": [
    "matriz =np.array([[1,2,3], [1,2,3]])\n",
    "print(matriz)\n",
    "print(matriz.shape)"
   ]
  },
  {
   "cell_type": "code",
   "execution_count": 10,
   "id": "118c8228-d2bd-42de-933a-87eec7cf8352",
   "metadata": {},
   "outputs": [
    {
     "data": {
      "text/plain": [
       "array([[68, 85, 23,  3],\n",
       "       [74, 87, 67, 94],\n",
       "       [24, 53, 75, 34],\n",
       "       [64, 55, 82, 56]])"
      ]
     },
     "execution_count": 10,
     "metadata": {},
     "output_type": "execute_result"
    }
   ],
   "source": [
    "matriz = list()\n",
    "for i in range(4):\n",
    "    filas = []\n",
    "    for j in range(4):\n",
    "        # num_aleatorio = i\n",
    "        # num_aleatorio = j\n",
    "        num_aleatorio = random.randint(1, 100)\n",
    "        filas.append(num_aleatorio)\n",
    "        \n",
    "    matriz.append(filas)\n",
    "    \n",
    "np.array(matriz)"
   ]
  },
  {
   "cell_type": "code",
   "execution_count": null,
   "id": "a7ecb18b-aff0-4806-9ae2-84798f8c453b",
   "metadata": {},
   "outputs": [],
   "source": []
  },
  {
   "cell_type": "markdown",
   "id": "110e057c-629b-4991-a908-eb7677bfa647",
   "metadata": {},
   "source": [
    "### Ejercicio 2:\n",
    "\n",
    "- Define una función que tome como parámetro de entrada 2 valores enteros ($m$, $n$).\n",
    "- La función debe generar, usando la librería _**random**_, una matriz de $mxn$ de números enteros del 1 al 100, usando bucles.\n",
    "- La función debe retornar la matriz, la matriz debe ser un _**np.array()**_."
   ]
  },
  {
   "cell_type": "code",
   "execution_count": 16,
   "id": "71ae4ac4-8dae-4b9a-80ec-e67be3509e13",
   "metadata": {},
   "outputs": [
    {
     "data": {
      "text/plain": [
       "array([[52, 53, 58, 67, 70, 13, 47,  4],\n",
       "       [93, 83, 91, 32, 23, 72,  1, 32],\n",
       "       [35, 64, 91, 32, 50, 33, 36,  1],\n",
       "       [77, 20, 25, 30, 51, 53,  1, 89]])"
      ]
     },
     "execution_count": 16,
     "metadata": {},
     "output_type": "execute_result"
    }
   ],
   "source": [
    "def gen_matriz(m, n):\n",
    "    matriz = []\n",
    "    if m <= 0 or n<= 0:\n",
    "        raise ValueError(\"Dimensiones incorrectas\") # Generamos un error por si meten datos incorrectos\n",
    "    for i in range(m):\n",
    "        filas = []\n",
    "        for j in range(n):\n",
    "            num_aleatorio = random.randint(1, 100)\n",
    "            filas.append(num_aleatorio)\n",
    "        \n",
    "        matriz.append(filas)\n",
    "    return np.array(matriz)\n",
    "\n",
    "gen_matriz(4, 8)"
   ]
  },
  {
   "cell_type": "code",
   "execution_count": null,
   "id": "34f03c12-274f-4fb0-ad23-a9bb28856bfc",
   "metadata": {},
   "outputs": [],
   "source": []
  },
  {
   "cell_type": "code",
   "execution_count": null,
   "id": "268b9042-48df-44fa-a28a-75a32febe065",
   "metadata": {
    "tags": []
   },
   "outputs": [],
   "source": [
    "##############################################################################################################################"
   ]
  }
 ],
 "metadata": {
  "kernelspec": {
   "display_name": "base",
   "language": "python",
   "name": "python3"
  },
  "language_info": {
   "codemirror_mode": {
    "name": "ipython",
    "version": 3
   },
   "file_extension": ".py",
   "mimetype": "text/x-python",
   "name": "python",
   "nbconvert_exporter": "python",
   "pygments_lexer": "ipython3",
   "version": "3.12.7"
  }
 },
 "nbformat": 4,
 "nbformat_minor": 5
}
