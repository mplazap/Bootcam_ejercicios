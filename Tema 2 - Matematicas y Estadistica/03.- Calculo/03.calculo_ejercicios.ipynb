{
 "cells": [
  {
   "cell_type": "markdown",
   "id": "d8dae965-3470-4b4f-8274-93fddc43dc44",
   "metadata": {},
   "source": [
    "## Ejercicios - Cálculo Diferencial"
   ]
  },
  {
   "cell_type": "code",
   "execution_count": null,
   "id": "04e4fedf-520c-403e-9c37-29bd074fe8bf",
   "metadata": {
    "tags": []
   },
   "outputs": [],
   "source": [
    "import numpy as np\n",
    "import matplotlib\n",
    "import matplotlib.pyplot as plt"
   ]
  },
  {
   "cell_type": "code",
   "execution_count": null,
   "id": "9b68b171-d3ec-48e4-9ba7-3da5ac3fb801",
   "metadata": {
    "tags": []
   },
   "outputs": [],
   "source": [
    "# Versiones\n",
    "\n",
    "print(f\"numpy=={np.__version__}\")\n",
    "print(f\"matplotlib=={matplotlib.__version__}\")"
   ]
  },
  {
   "cell_type": "markdown",
   "id": "4f7153d8-720d-4dba-8325-d852fa6d9615",
   "metadata": {},
   "source": [
    "### Ejercicio 1:\n",
    "\n",
    "- Define una función en Python, llamala _**python_sqrt**_, esta función debe recibir un valor $x$ y retornar la raíz cuadrada de $x$.\n",
    "$$f(x) = \\sqrt[]{x}$$\n",
    "\n",
    "- Define una función en Python, llamala _**derivada_sqrt**_, esta función debe de recibir un valor $a$ y debe de tener como parámetro por defecto $h = 0.0000001$, debe retornar la derivada de $f(x)$ en el punto $a$. Usa la función _**python_sqrt**_ creada en el punto anterior.\n",
    "\n",
    "$$\n",
    "\\large f'(x) = \\frac{dy}{dx} = \\lim_{h \\to 0} \\frac{f(x + h) - f(x)}{h}\n",
    "$$\n",
    "\n",
    "- Calcula la derivada para los números del 1 al 100."
   ]
  },
  {
   "cell_type": "code",
   "execution_count": null,
   "id": "67bf4e2b-257d-447f-8a5c-472f303f6688",
   "metadata": {},
   "outputs": [],
   "source": []
  },
  {
   "cell_type": "code",
   "execution_count": null,
   "id": "a4c5248c-918f-43af-9da1-19e531ea6aa5",
   "metadata": {},
   "outputs": [],
   "source": []
  },
  {
   "cell_type": "code",
   "execution_count": null,
   "id": "b82c1eba-8222-4438-9e5f-e7fb367ac1e6",
   "metadata": {},
   "outputs": [],
   "source": []
  },
  {
   "cell_type": "markdown",
   "id": "78be2e17-6967-41b8-8689-45b0287244dd",
   "metadata": {},
   "source": [
    "### Ejercicio 2:\n",
    "\n",
    "- Define una función en Python, llamala _**recta_tangente**_, esta función debe recibir un valor $a$ y retornar:\n",
    "    - El punto $a$.\n",
    "    - El punto $a$ evaluado en la función $f(x)$. En otras palabras, debe retornar $f(a)$.\n",
    "    - La derivada de $f(x)$ en $a$. En decir $f'(a)$.\n",
    "\n",
    "$$y = f'(a)\\cdot(x - a) + f(a)$$\n",
    "\n",
    "- Prueba la función con los números del 1 al 10.\n",
    "\n",
    "La función retornará los elementos necesarios para calcular la recta, no la recta en si.\n",
    "\n",
    "Usaremos $f(x) = \\sqrt[]{x}$, para reutilizar las funciones del ejercicio anterior."
   ]
  },
  {
   "cell_type": "code",
   "execution_count": null,
   "id": "c4b722ce-86da-48c8-9026-8e78b52413ba",
   "metadata": {},
   "outputs": [],
   "source": []
  },
  {
   "cell_type": "code",
   "execution_count": null,
   "id": "46febc22-f564-47a7-b42e-e209f0e91d84",
   "metadata": {},
   "outputs": [],
   "source": []
  },
  {
   "cell_type": "code",
   "execution_count": null,
   "id": "3b837b78-83fe-4c6c-ab8f-81d0bb995a31",
   "metadata": {},
   "outputs": [],
   "source": []
  },
  {
   "cell_type": "markdown",
   "id": "77ac9f93-734b-4ac9-a5c1-a35d7435632d",
   "metadata": {},
   "source": [
    "### Ejercicio 3:\n",
    "\n",
    "- Usando el resultado del ejercicio anterior, grafica la función $f(x)$, los puntos tangentes y las rectas tangentes para los valores: $1$ y $10$.\n",
    "- Usa _**x = np.linspace(0, 15, 1000)**_\n",
    "- Usa los notebooks de teoría para guiarte.\n",
    "\n",
    "Usaremos $f(x) = \\sqrt[]{x}$, para reutilizar las funciones de los ejercicios anteriores."
   ]
  },
  {
   "cell_type": "code",
   "execution_count": null,
   "id": "3911b912-282b-41fb-a759-c9c2593e69e6",
   "metadata": {},
   "outputs": [],
   "source": []
  },
  {
   "cell_type": "code",
   "execution_count": null,
   "id": "7f1c8edc-dae9-4545-8d32-4c75e040539e",
   "metadata": {},
   "outputs": [],
   "source": []
  },
  {
   "cell_type": "code",
   "execution_count": null,
   "id": "da526f41-7372-4ad5-82c0-0e5f978f4066",
   "metadata": {},
   "outputs": [],
   "source": []
  },
  {
   "cell_type": "markdown",
   "id": "dbc7280d-10ce-438a-99e4-9d7f5f307aa5",
   "metadata": {},
   "source": [
    "### Ejercicio 4 (_Extra_):\n",
    "\n",
    "- Repite los pasos de los ejercicios 1, 2 para la siguiente función:\n",
    "\n",
    "$$f(x) = sin(x^2) + 10$$\n",
    "\n",
    "- Repite los pasos del ejercicio 3, los puntos a evaluar son:\n",
    "    - $-1$\n",
    "    - $1$\n",
    "    - $-\\pi$\n",
    "    - $\\pi$\n",
    "\n",
    "- Usa _**x = np.linspace(-5, 5, 1000)**_ para la gráficas.\n",
    "\n",
    "Para usar el número $\\pi$, usamos _**np.pi**_."
   ]
  },
  {
   "cell_type": "code",
   "execution_count": null,
   "id": "4bbfb8c7-8561-424d-bcc7-1ac246bce98b",
   "metadata": {},
   "outputs": [],
   "source": []
  },
  {
   "cell_type": "code",
   "execution_count": null,
   "id": "464e473c-4e1f-45f7-9982-f71b689ffda4",
   "metadata": {},
   "outputs": [],
   "source": []
  },
  {
   "cell_type": "code",
   "execution_count": null,
   "id": "7d67f680-3b16-41bf-b67d-c9e9106c3da5",
   "metadata": {},
   "outputs": [],
   "source": []
  },
  {
   "cell_type": "code",
   "execution_count": null,
   "id": "598dcb8a-9668-49d0-af9e-44781c158bee",
   "metadata": {},
   "outputs": [],
   "source": []
  },
  {
   "cell_type": "code",
   "execution_count": null,
   "id": "5cf3593a-724a-4720-8eb5-3e3a0e29278b",
   "metadata": {},
   "outputs": [],
   "source": []
  },
  {
   "cell_type": "code",
   "execution_count": null,
   "id": "6ebb7ae7-dd26-455f-9cc9-ae2a88d194e2",
   "metadata": {},
   "outputs": [],
   "source": []
  },
  {
   "cell_type": "code",
   "execution_count": null,
   "id": "bdef78f7-5f72-4011-bd50-43ab9f457577",
   "metadata": {
    "tags": []
   },
   "outputs": [],
   "source": [
    "##############################################################################################################################"
   ]
  }
 ],
 "metadata": {
  "kernelspec": {
   "display_name": "Python 3 (ipykernel)",
   "language": "python",
   "name": "python3"
  },
  "language_info": {
   "codemirror_mode": {
    "name": "ipython",
    "version": 3
   },
   "file_extension": ".py",
   "mimetype": "text/x-python",
   "name": "python",
   "nbconvert_exporter": "python",
   "pygments_lexer": "ipython3",
   "version": "3.11.5"
  }
 },
 "nbformat": 4,
 "nbformat_minor": 5
}
