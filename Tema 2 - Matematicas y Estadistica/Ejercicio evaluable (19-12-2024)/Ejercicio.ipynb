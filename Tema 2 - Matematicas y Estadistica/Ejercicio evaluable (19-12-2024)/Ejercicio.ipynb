{
 "cells": [
  {
   "cell_type": "markdown",
   "metadata": {},
   "source": [
    "4 columnas numéricas\n",
    "\n",
    "* price\n",
    "* bedrooms\n",
    "* bathrooms\n",
    "* m2\n",
    "* address (quitarle lo de \", Madrid\" con numpy)\n",
    "\n",
    "En cada apartado hacer visualizaciones con matplotlib o seaborn.\n",
    "\n",
    "* 25 %:\n",
    "\n",
    "* Carga de datos: cargarlo con np.genfromtext usar encoding=\"utf-8\"\n",
    "* Media, mediana\n",
    "* Máximo y mínimo\n",
    "* histograma y curva de densidad\n",
    "\n",
    "* 25 %\n",
    "\n",
    "* Cuartiles: Q1 (25), Q2 (50), Q3 (75)\n",
    "* IQR\n",
    "* Filtrar 20 % más caro, y el 20 % más barato\n",
    "* Opcional: filtrar los barrios 20 % más baratos\n",
    "* Moda: calcular moda también de address\n",
    "* Opcional: Moda de los barrios más baratos y más caros\n",
    "* Dispersión: varianza y desviación estándar\n",
    "\n",
    "25 % \n",
    "\n",
    "* Filtro de outliers: tukey, z-score, marcar en un gráfico los límites de outliers: rojo y azul.\n",
    "* Correlación: calcular la matriz y pintarla con matplotlib/seaborn\n",
    "* Estandarización\n",
    "\n",
    "25 % \n",
    "\n",
    "* Asimetría y curtosis\n",
    "* Transformar distribuciones e interpretar resultados\n",
    "* Contraste de hipótesis:\n",
    "    * Que las casas de X barrio son más baratas de las de Y barrio\n",
    "    * Que las casas de >= 3 baños son más caras que las casas de 1-2 baños\n",
    "\n",
    "\n",
    "Entrega: 27/12"
   ]
  },
  {
   "cell_type": "code",
   "execution_count": 9,
   "metadata": {},
   "outputs": [],
   "source": [
    "import numpy as np\n",
    "import matplotlib.pyplot as plt\n",
    "from scipy import stats\n",
    "import pickle as pkl"
   ]
  },
  {
   "cell_type": "code",
   "execution_count": 22,
   "metadata": {},
   "outputs": [],
   "source": [
    "price = np.genfromtxt(\"../Data/idealista_madrid.csv\", usecols = (0), dtype = int, delimiter =\",\", skip_header = 1, encoding = \"utf_8\" )\n",
    "baths = np.genfromtxt(\"../Data/idealista_madrid.csv\", usecols = (1), dtype = int, delimiter =\",\", skip_header = 1, encoding = \"utf_8\" )\n",
    "roms = np.genfromtxt(\"../Data/idealista_madrid.csv\", usecols = (2), dtype = int, delimiter =\",\", skip_header = 1, encoding = \"utf_8\" )\n",
    "meters = np.genfromtxt(\"../Data/idealista_madrid.csv\", usecols = (3), dtype = int, delimiter =\",\", skip_header = 1, encoding = \"utf_8\" )"
   ]
  },
  {
   "cell_type": "code",
   "execution_count": 25,
   "metadata": {},
   "outputs": [
    {
     "name": "stdout",
     "output_type": "stream",
     "text": [
      "El coste medio de las viviendas es: 1290575.26\n",
      "La mediana del precio es: 990000.00\n"
     ]
    }
   ],
   "source": [
    "\n",
    "# Media\n",
    "print(f\"El coste medio de las viviendas es: {np.mean(price):.2f}\")\n",
    "\n",
    "# Mediana\n",
    "print(f\"La mediana del precio es: {np.median(price):.2f}\")\n",
    "# Máximo y mínimo\n",
    "# histograma y curva de densidad"
   ]
  },
  {
   "cell_type": "markdown",
   "metadata": {},
   "source": []
  }
 ],
 "metadata": {
  "kernelspec": {
   "display_name": "base",
   "language": "python",
   "name": "python3"
  },
  "language_info": {
   "codemirror_mode": {
    "name": "ipython",
    "version": 3
   },
   "file_extension": ".py",
   "mimetype": "text/x-python",
   "name": "python",
   "nbconvert_exporter": "python",
   "pygments_lexer": "ipython3",
   "version": "3.12.7"
  }
 },
 "nbformat": 4,
 "nbformat_minor": 2
}
